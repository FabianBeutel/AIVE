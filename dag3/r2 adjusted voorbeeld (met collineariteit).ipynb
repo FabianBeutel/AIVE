{
 "cells": [
  {
   "cell_type": "code",
   "execution_count": 1,
   "metadata": {},
   "outputs": [],
   "source": [
    "import pandas as pd\n",
    "import matplotlib.pyplot as plt"
   ]
  },
  {
   "cell_type": "markdown",
   "metadata": {},
   "source": [
    "### inlezen van data"
   ]
  },
  {
   "cell_type": "code",
   "execution_count": 14,
   "metadata": {},
   "outputs": [
    {
     "data": {
      "text/html": [
       "<div>\n",
       "<style scoped>\n",
       "    .dataframe tbody tr th:only-of-type {\n",
       "        vertical-align: middle;\n",
       "    }\n",
       "\n",
       "    .dataframe tbody tr th {\n",
       "        vertical-align: top;\n",
       "    }\n",
       "\n",
       "    .dataframe thead th {\n",
       "        text-align: right;\n",
       "    }\n",
       "</style>\n",
       "<table border=\"1\" class=\"dataframe\">\n",
       "  <thead>\n",
       "    <tr style=\"text-align: right;\">\n",
       "      <th></th>\n",
       "      <th>layer_height</th>\n",
       "      <th>wall_thickness</th>\n",
       "      <th>infill_density</th>\n",
       "      <th>infill_pattern</th>\n",
       "      <th>nozzle_temperature</th>\n",
       "      <th>bed_temperature</th>\n",
       "      <th>print_speed</th>\n",
       "      <th>material</th>\n",
       "      <th>fan_speed</th>\n",
       "      <th>roughness</th>\n",
       "      <th>elongation</th>\n",
       "    </tr>\n",
       "  </thead>\n",
       "  <tbody>\n",
       "    <tr>\n",
       "      <th>0</th>\n",
       "      <td>0.02</td>\n",
       "      <td>8</td>\n",
       "      <td>90</td>\n",
       "      <td>0</td>\n",
       "      <td>220</td>\n",
       "      <td>60</td>\n",
       "      <td>40</td>\n",
       "      <td>0</td>\n",
       "      <td>0</td>\n",
       "      <td>25</td>\n",
       "      <td>1.2</td>\n",
       "    </tr>\n",
       "    <tr>\n",
       "      <th>1</th>\n",
       "      <td>0.02</td>\n",
       "      <td>7</td>\n",
       "      <td>90</td>\n",
       "      <td>1</td>\n",
       "      <td>225</td>\n",
       "      <td>65</td>\n",
       "      <td>40</td>\n",
       "      <td>0</td>\n",
       "      <td>25</td>\n",
       "      <td>32</td>\n",
       "      <td>1.4</td>\n",
       "    </tr>\n",
       "    <tr>\n",
       "      <th>2</th>\n",
       "      <td>0.02</td>\n",
       "      <td>1</td>\n",
       "      <td>80</td>\n",
       "      <td>0</td>\n",
       "      <td>230</td>\n",
       "      <td>70</td>\n",
       "      <td>40</td>\n",
       "      <td>0</td>\n",
       "      <td>50</td>\n",
       "      <td>40</td>\n",
       "      <td>0.8</td>\n",
       "    </tr>\n",
       "    <tr>\n",
       "      <th>3</th>\n",
       "      <td>0.02</td>\n",
       "      <td>4</td>\n",
       "      <td>70</td>\n",
       "      <td>1</td>\n",
       "      <td>240</td>\n",
       "      <td>75</td>\n",
       "      <td>40</td>\n",
       "      <td>0</td>\n",
       "      <td>75</td>\n",
       "      <td>68</td>\n",
       "      <td>0.5</td>\n",
       "    </tr>\n",
       "    <tr>\n",
       "      <th>4</th>\n",
       "      <td>0.02</td>\n",
       "      <td>6</td>\n",
       "      <td>90</td>\n",
       "      <td>0</td>\n",
       "      <td>250</td>\n",
       "      <td>80</td>\n",
       "      <td>40</td>\n",
       "      <td>0</td>\n",
       "      <td>100</td>\n",
       "      <td>92</td>\n",
       "      <td>0.7</td>\n",
       "    </tr>\n",
       "  </tbody>\n",
       "</table>\n",
       "</div>"
      ],
      "text/plain": [
       "   layer_height  wall_thickness  infill_density  infill_pattern  \\\n",
       "0          0.02               8              90               0   \n",
       "1          0.02               7              90               1   \n",
       "2          0.02               1              80               0   \n",
       "3          0.02               4              70               1   \n",
       "4          0.02               6              90               0   \n",
       "\n",
       "   nozzle_temperature  bed_temperature  print_speed  material  fan_speed  \\\n",
       "0                 220               60           40         0          0   \n",
       "1                 225               65           40         0         25   \n",
       "2                 230               70           40         0         50   \n",
       "3                 240               75           40         0         75   \n",
       "4                 250               80           40         0        100   \n",
       "\n",
       "   roughness  elongation  \n",
       "0         25         1.2  \n",
       "1         32         1.4  \n",
       "2         40         0.8  \n",
       "3         68         0.5  \n",
       "4         92         0.7  "
      ]
     },
     "execution_count": 14,
     "metadata": {},
     "output_type": "execute_result"
    }
   ],
   "source": [
    "# eerst laden we de dataset in \n",
    "df = pd.read_csv(\"../3dprinter/data.csv\", sep = ';')\n",
    "X = df.drop('tension_strength', axis = 'columns')\n",
    "y = df.tension_strength\n",
    "X.head()"
   ]
  },
  {
   "cell_type": "markdown",
   "metadata": {},
   "source": [
    "### snel een regressie model maken"
   ]
  },
  {
   "cell_type": "code",
   "execution_count": 9,
   "metadata": {},
   "outputs": [],
   "source": [
    "from sklearn.model_selection import train_test_split\n",
    "from sklearn.linear_model import LinearRegression, Lasso, Ridge\n",
    "from sklearn.metrics import mean_squared_error, r2_score"
   ]
  },
  {
   "cell_type": "code",
   "execution_count": 10,
   "metadata": {},
   "outputs": [],
   "source": [
    "# functie om de R2 adjusted te berekenen\n",
    "def R2adjusted(R2, n, p):\n",
    "    return 1-(1-R2)*(n-1)/(n-p-1)"
   ]
  },
  {
   "cell_type": "code",
   "execution_count": 15,
   "metadata": {},
   "outputs": [],
   "source": [
    "x_train, x_test, y_train, y_test = train_test_split(X, y, test_size=0.5, random_state=2)\n",
    "# een lineaire regressie model maken\n",
    "linreg = LinearRegression()\n",
    "linreg.fit(x_train, y_train)\n",
    "\n",
    "y_pred = linreg.predict(x_test)"
   ]
  },
  {
   "cell_type": "code",
   "execution_count": 16,
   "metadata": {},
   "outputs": [
    {
     "name": "stdout",
     "output_type": "stream",
     "text": [
      "MSE:  60.55173742301437\n",
      "R2:  0.011884180433838654\n",
      "R2adj -0.8242138207375287\n"
     ]
    }
   ],
   "source": [
    "print('MSE: ', mean_squared_error(y_test, y_pred))\n",
    "R2 = r2_score(y_test, y_pred)\n",
    "n = len(y_test)\n",
    "p = len(x_test.columns)\n",
    "R2adj = R2adjusted(R2, n, p)\n",
    "print('R2: ', R2)\n",
    "print('R2adj', R2adj)"
   ]
  },
  {
   "cell_type": "markdown",
   "metadata": {},
   "source": [
    "Zoals we zien is de R2 erg slecht. We kunnen de correlatie coefficienten berekenen om te kijken of we last hebben van multicollineariteit."
   ]
  },
  {
   "cell_type": "code",
   "execution_count": 17,
   "metadata": {},
   "outputs": [
    {
     "data": {
      "text/html": [
       "<div>\n",
       "<style scoped>\n",
       "    .dataframe tbody tr th:only-of-type {\n",
       "        vertical-align: middle;\n",
       "    }\n",
       "\n",
       "    .dataframe tbody tr th {\n",
       "        vertical-align: top;\n",
       "    }\n",
       "\n",
       "    .dataframe thead th {\n",
       "        text-align: right;\n",
       "    }\n",
       "</style>\n",
       "<table border=\"1\" class=\"dataframe\">\n",
       "  <thead>\n",
       "    <tr style=\"text-align: right;\">\n",
       "      <th></th>\n",
       "      <th>layer_height</th>\n",
       "      <th>wall_thickness</th>\n",
       "      <th>infill_density</th>\n",
       "      <th>infill_pattern</th>\n",
       "      <th>nozzle_temperature</th>\n",
       "      <th>bed_temperature</th>\n",
       "      <th>print_speed</th>\n",
       "      <th>material</th>\n",
       "      <th>fan_speed</th>\n",
       "      <th>roughness</th>\n",
       "      <th>tension_strength</th>\n",
       "      <th>elongation</th>\n",
       "    </tr>\n",
       "  </thead>\n",
       "  <tbody>\n",
       "    <tr>\n",
       "      <th>layer_height</th>\n",
       "      <td>1.000000e+00</td>\n",
       "      <td>-0.192571</td>\n",
       "      <td>3.498560e-03</td>\n",
       "      <td>0.000000</td>\n",
       "      <td>-1.780545e-17</td>\n",
       "      <td>-4.925818e-18</td>\n",
       "      <td>-0.055501</td>\n",
       "      <td>0.000000</td>\n",
       "      <td>7.881309e-18</td>\n",
       "      <td>0.801341</td>\n",
       "      <td>0.338230</td>\n",
       "      <td>0.507583</td>\n",
       "    </tr>\n",
       "    <tr>\n",
       "      <th>wall_thickness</th>\n",
       "      <td>-1.925714e-01</td>\n",
       "      <td>1.000000</td>\n",
       "      <td>1.025762e-01</td>\n",
       "      <td>0.145159</td>\n",
       "      <td>-1.184929e-01</td>\n",
       "      <td>-2.932662e-02</td>\n",
       "      <td>-0.419531</td>\n",
       "      <td>0.117510</td>\n",
       "      <td>-2.932662e-02</td>\n",
       "      <td>-0.226987</td>\n",
       "      <td>0.399849</td>\n",
       "      <td>0.176364</td>\n",
       "    </tr>\n",
       "    <tr>\n",
       "      <th>infill_density</th>\n",
       "      <td>3.498560e-03</td>\n",
       "      <td>0.102576</td>\n",
       "      <td>1.000000e+00</td>\n",
       "      <td>-0.167274</td>\n",
       "      <td>2.386137e-01</td>\n",
       "      <td>1.600823e-18</td>\n",
       "      <td>-0.094304</td>\n",
       "      <td>-0.262859</td>\n",
       "      <td>2.561317e-18</td>\n",
       "      <td>0.118389</td>\n",
       "      <td>0.358464</td>\n",
       "      <td>0.159009</td>\n",
       "    </tr>\n",
       "    <tr>\n",
       "      <th>infill_pattern</th>\n",
       "      <td>0.000000e+00</td>\n",
       "      <td>0.145159</td>\n",
       "      <td>-1.672736e-01</td>\n",
       "      <td>1.000000</td>\n",
       "      <td>-1.703995e-01</td>\n",
       "      <td>0.000000e+00</td>\n",
       "      <td>0.000000</td>\n",
       "      <td>0.200000</td>\n",
       "      <td>0.000000e+00</td>\n",
       "      <td>-0.068340</td>\n",
       "      <td>0.009054</td>\n",
       "      <td>0.046138</td>\n",
       "    </tr>\n",
       "    <tr>\n",
       "      <th>nozzle_temperature</th>\n",
       "      <td>-1.780545e-17</td>\n",
       "      <td>-0.118493</td>\n",
       "      <td>2.386137e-01</td>\n",
       "      <td>-0.170400</td>\n",
       "      <td>1.000000e+00</td>\n",
       "      <td>6.024534e-01</td>\n",
       "      <td>0.000000</td>\n",
       "      <td>-0.783838</td>\n",
       "      <td>6.024534e-01</td>\n",
       "      <td>0.348611</td>\n",
       "      <td>-0.405908</td>\n",
       "      <td>-0.527447</td>\n",
       "    </tr>\n",
       "    <tr>\n",
       "      <th>bed_temperature</th>\n",
       "      <td>-4.925818e-18</td>\n",
       "      <td>-0.029327</td>\n",
       "      <td>1.600823e-18</td>\n",
       "      <td>0.000000</td>\n",
       "      <td>6.024534e-01</td>\n",
       "      <td>1.000000e+00</td>\n",
       "      <td>0.000000</td>\n",
       "      <td>0.000000</td>\n",
       "      <td>1.000000e+00</td>\n",
       "      <td>0.192142</td>\n",
       "      <td>-0.252883</td>\n",
       "      <td>-0.300871</td>\n",
       "    </tr>\n",
       "    <tr>\n",
       "      <th>print_speed</th>\n",
       "      <td>-5.550085e-02</td>\n",
       "      <td>-0.419531</td>\n",
       "      <td>-9.430408e-02</td>\n",
       "      <td>0.000000</td>\n",
       "      <td>0.000000e+00</td>\n",
       "      <td>0.000000e+00</td>\n",
       "      <td>1.000000</td>\n",
       "      <td>0.000000</td>\n",
       "      <td>0.000000e+00</td>\n",
       "      <td>0.121066</td>\n",
       "      <td>-0.264590</td>\n",
       "      <td>-0.234052</td>\n",
       "    </tr>\n",
       "    <tr>\n",
       "      <th>material</th>\n",
       "      <td>0.000000e+00</td>\n",
       "      <td>0.117510</td>\n",
       "      <td>-2.628585e-01</td>\n",
       "      <td>0.200000</td>\n",
       "      <td>-7.838379e-01</td>\n",
       "      <td>0.000000e+00</td>\n",
       "      <td>0.000000</td>\n",
       "      <td>1.000000</td>\n",
       "      <td>0.000000e+00</td>\n",
       "      <td>-0.233173</td>\n",
       "      <td>0.289726</td>\n",
       "      <td>0.394737</td>\n",
       "    </tr>\n",
       "    <tr>\n",
       "      <th>fan_speed</th>\n",
       "      <td>7.881309e-18</td>\n",
       "      <td>-0.029327</td>\n",
       "      <td>2.561317e-18</td>\n",
       "      <td>0.000000</td>\n",
       "      <td>6.024534e-01</td>\n",
       "      <td>1.000000e+00</td>\n",
       "      <td>0.000000</td>\n",
       "      <td>0.000000</td>\n",
       "      <td>1.000000e+00</td>\n",
       "      <td>0.192142</td>\n",
       "      <td>-0.252883</td>\n",
       "      <td>-0.300871</td>\n",
       "    </tr>\n",
       "    <tr>\n",
       "      <th>roughness</th>\n",
       "      <td>8.013409e-01</td>\n",
       "      <td>-0.226987</td>\n",
       "      <td>1.183890e-01</td>\n",
       "      <td>-0.068340</td>\n",
       "      <td>3.486108e-01</td>\n",
       "      <td>1.921416e-01</td>\n",
       "      <td>0.121066</td>\n",
       "      <td>-0.233173</td>\n",
       "      <td>1.921416e-01</td>\n",
       "      <td>1.000000</td>\n",
       "      <td>0.051617</td>\n",
       "      <td>0.098962</td>\n",
       "    </tr>\n",
       "    <tr>\n",
       "      <th>tension_strength</th>\n",
       "      <td>3.382296e-01</td>\n",
       "      <td>0.399849</td>\n",
       "      <td>3.584644e-01</td>\n",
       "      <td>0.009054</td>\n",
       "      <td>-4.059076e-01</td>\n",
       "      <td>-2.528832e-01</td>\n",
       "      <td>-0.264590</td>\n",
       "      <td>0.289726</td>\n",
       "      <td>-2.528832e-01</td>\n",
       "      <td>0.051617</td>\n",
       "      <td>1.000000</td>\n",
       "      <td>0.838109</td>\n",
       "    </tr>\n",
       "    <tr>\n",
       "      <th>elongation</th>\n",
       "      <td>5.075830e-01</td>\n",
       "      <td>0.176364</td>\n",
       "      <td>1.590088e-01</td>\n",
       "      <td>0.046138</td>\n",
       "      <td>-5.274466e-01</td>\n",
       "      <td>-3.008708e-01</td>\n",
       "      <td>-0.234052</td>\n",
       "      <td>0.394737</td>\n",
       "      <td>-3.008708e-01</td>\n",
       "      <td>0.098962</td>\n",
       "      <td>0.838109</td>\n",
       "      <td>1.000000</td>\n",
       "    </tr>\n",
       "  </tbody>\n",
       "</table>\n",
       "</div>"
      ],
      "text/plain": [
       "                    layer_height  wall_thickness  infill_density  \\\n",
       "layer_height        1.000000e+00       -0.192571    3.498560e-03   \n",
       "wall_thickness     -1.925714e-01        1.000000    1.025762e-01   \n",
       "infill_density      3.498560e-03        0.102576    1.000000e+00   \n",
       "infill_pattern      0.000000e+00        0.145159   -1.672736e-01   \n",
       "nozzle_temperature -1.780545e-17       -0.118493    2.386137e-01   \n",
       "bed_temperature    -4.925818e-18       -0.029327    1.600823e-18   \n",
       "print_speed        -5.550085e-02       -0.419531   -9.430408e-02   \n",
       "material            0.000000e+00        0.117510   -2.628585e-01   \n",
       "fan_speed           7.881309e-18       -0.029327    2.561317e-18   \n",
       "roughness           8.013409e-01       -0.226987    1.183890e-01   \n",
       "tension_strength    3.382296e-01        0.399849    3.584644e-01   \n",
       "elongation          5.075830e-01        0.176364    1.590088e-01   \n",
       "\n",
       "                    infill_pattern  nozzle_temperature  bed_temperature  \\\n",
       "layer_height              0.000000       -1.780545e-17    -4.925818e-18   \n",
       "wall_thickness            0.145159       -1.184929e-01    -2.932662e-02   \n",
       "infill_density           -0.167274        2.386137e-01     1.600823e-18   \n",
       "infill_pattern            1.000000       -1.703995e-01     0.000000e+00   \n",
       "nozzle_temperature       -0.170400        1.000000e+00     6.024534e-01   \n",
       "bed_temperature           0.000000        6.024534e-01     1.000000e+00   \n",
       "print_speed               0.000000        0.000000e+00     0.000000e+00   \n",
       "material                  0.200000       -7.838379e-01     0.000000e+00   \n",
       "fan_speed                 0.000000        6.024534e-01     1.000000e+00   \n",
       "roughness                -0.068340        3.486108e-01     1.921416e-01   \n",
       "tension_strength          0.009054       -4.059076e-01    -2.528832e-01   \n",
       "elongation                0.046138       -5.274466e-01    -3.008708e-01   \n",
       "\n",
       "                    print_speed  material     fan_speed  roughness  \\\n",
       "layer_height          -0.055501  0.000000  7.881309e-18   0.801341   \n",
       "wall_thickness        -0.419531  0.117510 -2.932662e-02  -0.226987   \n",
       "infill_density        -0.094304 -0.262859  2.561317e-18   0.118389   \n",
       "infill_pattern         0.000000  0.200000  0.000000e+00  -0.068340   \n",
       "nozzle_temperature     0.000000 -0.783838  6.024534e-01   0.348611   \n",
       "bed_temperature        0.000000  0.000000  1.000000e+00   0.192142   \n",
       "print_speed            1.000000  0.000000  0.000000e+00   0.121066   \n",
       "material               0.000000  1.000000  0.000000e+00  -0.233173   \n",
       "fan_speed              0.000000  0.000000  1.000000e+00   0.192142   \n",
       "roughness              0.121066 -0.233173  1.921416e-01   1.000000   \n",
       "tension_strength      -0.264590  0.289726 -2.528832e-01   0.051617   \n",
       "elongation            -0.234052  0.394737 -3.008708e-01   0.098962   \n",
       "\n",
       "                    tension_strength  elongation  \n",
       "layer_height                0.338230    0.507583  \n",
       "wall_thickness              0.399849    0.176364  \n",
       "infill_density              0.358464    0.159009  \n",
       "infill_pattern              0.009054    0.046138  \n",
       "nozzle_temperature         -0.405908   -0.527447  \n",
       "bed_temperature            -0.252883   -0.300871  \n",
       "print_speed                -0.264590   -0.234052  \n",
       "material                    0.289726    0.394737  \n",
       "fan_speed                  -0.252883   -0.300871  \n",
       "roughness                   0.051617    0.098962  \n",
       "tension_strength            1.000000    0.838109  \n",
       "elongation                  0.838109    1.000000  "
      ]
     },
     "execution_count": 17,
     "metadata": {},
     "output_type": "execute_result"
    }
   ],
   "source": [
    "# maakt de correlatie matrix\n",
    "df.corr()"
   ]
  },
  {
   "cell_type": "markdown",
   "metadata": {},
   "source": [
    "Hoge correlaties die we kunnen vinden zijn bed temperature met fan speed, tension strength met elongation, roughness met layer height. We kunnen even wat eruit filteren door te kijken welke (absolute) correlaties hoger zijn dan 0.4."
   ]
  },
  {
   "cell_type": "code",
   "execution_count": 18,
   "metadata": {},
   "outputs": [
    {
     "data": {
      "text/html": [
       "<div>\n",
       "<style scoped>\n",
       "    .dataframe tbody tr th:only-of-type {\n",
       "        vertical-align: middle;\n",
       "    }\n",
       "\n",
       "    .dataframe tbody tr th {\n",
       "        vertical-align: top;\n",
       "    }\n",
       "\n",
       "    .dataframe thead th {\n",
       "        text-align: right;\n",
       "    }\n",
       "</style>\n",
       "<table border=\"1\" class=\"dataframe\">\n",
       "  <thead>\n",
       "    <tr style=\"text-align: right;\">\n",
       "      <th></th>\n",
       "      <th>layer_height</th>\n",
       "      <th>wall_thickness</th>\n",
       "      <th>infill_density</th>\n",
       "      <th>infill_pattern</th>\n",
       "      <th>nozzle_temperature</th>\n",
       "      <th>bed_temperature</th>\n",
       "      <th>print_speed</th>\n",
       "      <th>material</th>\n",
       "      <th>fan_speed</th>\n",
       "      <th>roughness</th>\n",
       "      <th>tension_strength</th>\n",
       "      <th>elongation</th>\n",
       "    </tr>\n",
       "  </thead>\n",
       "  <tbody>\n",
       "    <tr>\n",
       "      <th>layer_height</th>\n",
       "      <td>1.000000</td>\n",
       "      <td>NaN</td>\n",
       "      <td>NaN</td>\n",
       "      <td>NaN</td>\n",
       "      <td>NaN</td>\n",
       "      <td>NaN</td>\n",
       "      <td>NaN</td>\n",
       "      <td>NaN</td>\n",
       "      <td>NaN</td>\n",
       "      <td>0.801341</td>\n",
       "      <td>NaN</td>\n",
       "      <td>0.507583</td>\n",
       "    </tr>\n",
       "    <tr>\n",
       "      <th>wall_thickness</th>\n",
       "      <td>NaN</td>\n",
       "      <td>1.000000</td>\n",
       "      <td>NaN</td>\n",
       "      <td>NaN</td>\n",
       "      <td>NaN</td>\n",
       "      <td>NaN</td>\n",
       "      <td>-0.419531</td>\n",
       "      <td>NaN</td>\n",
       "      <td>NaN</td>\n",
       "      <td>NaN</td>\n",
       "      <td>NaN</td>\n",
       "      <td>NaN</td>\n",
       "    </tr>\n",
       "    <tr>\n",
       "      <th>infill_density</th>\n",
       "      <td>NaN</td>\n",
       "      <td>NaN</td>\n",
       "      <td>1.0</td>\n",
       "      <td>NaN</td>\n",
       "      <td>NaN</td>\n",
       "      <td>NaN</td>\n",
       "      <td>NaN</td>\n",
       "      <td>NaN</td>\n",
       "      <td>NaN</td>\n",
       "      <td>NaN</td>\n",
       "      <td>NaN</td>\n",
       "      <td>NaN</td>\n",
       "    </tr>\n",
       "    <tr>\n",
       "      <th>infill_pattern</th>\n",
       "      <td>NaN</td>\n",
       "      <td>NaN</td>\n",
       "      <td>NaN</td>\n",
       "      <td>1.0</td>\n",
       "      <td>NaN</td>\n",
       "      <td>NaN</td>\n",
       "      <td>NaN</td>\n",
       "      <td>NaN</td>\n",
       "      <td>NaN</td>\n",
       "      <td>NaN</td>\n",
       "      <td>NaN</td>\n",
       "      <td>NaN</td>\n",
       "    </tr>\n",
       "    <tr>\n",
       "      <th>nozzle_temperature</th>\n",
       "      <td>NaN</td>\n",
       "      <td>NaN</td>\n",
       "      <td>NaN</td>\n",
       "      <td>NaN</td>\n",
       "      <td>1.000000</td>\n",
       "      <td>0.602453</td>\n",
       "      <td>NaN</td>\n",
       "      <td>-0.783838</td>\n",
       "      <td>0.602453</td>\n",
       "      <td>NaN</td>\n",
       "      <td>-0.405908</td>\n",
       "      <td>-0.527447</td>\n",
       "    </tr>\n",
       "    <tr>\n",
       "      <th>bed_temperature</th>\n",
       "      <td>NaN</td>\n",
       "      <td>NaN</td>\n",
       "      <td>NaN</td>\n",
       "      <td>NaN</td>\n",
       "      <td>0.602453</td>\n",
       "      <td>1.000000</td>\n",
       "      <td>NaN</td>\n",
       "      <td>NaN</td>\n",
       "      <td>1.000000</td>\n",
       "      <td>NaN</td>\n",
       "      <td>NaN</td>\n",
       "      <td>NaN</td>\n",
       "    </tr>\n",
       "    <tr>\n",
       "      <th>print_speed</th>\n",
       "      <td>NaN</td>\n",
       "      <td>-0.419531</td>\n",
       "      <td>NaN</td>\n",
       "      <td>NaN</td>\n",
       "      <td>NaN</td>\n",
       "      <td>NaN</td>\n",
       "      <td>1.000000</td>\n",
       "      <td>NaN</td>\n",
       "      <td>NaN</td>\n",
       "      <td>NaN</td>\n",
       "      <td>NaN</td>\n",
       "      <td>NaN</td>\n",
       "    </tr>\n",
       "    <tr>\n",
       "      <th>material</th>\n",
       "      <td>NaN</td>\n",
       "      <td>NaN</td>\n",
       "      <td>NaN</td>\n",
       "      <td>NaN</td>\n",
       "      <td>-0.783838</td>\n",
       "      <td>NaN</td>\n",
       "      <td>NaN</td>\n",
       "      <td>1.000000</td>\n",
       "      <td>NaN</td>\n",
       "      <td>NaN</td>\n",
       "      <td>NaN</td>\n",
       "      <td>NaN</td>\n",
       "    </tr>\n",
       "    <tr>\n",
       "      <th>fan_speed</th>\n",
       "      <td>NaN</td>\n",
       "      <td>NaN</td>\n",
       "      <td>NaN</td>\n",
       "      <td>NaN</td>\n",
       "      <td>0.602453</td>\n",
       "      <td>1.000000</td>\n",
       "      <td>NaN</td>\n",
       "      <td>NaN</td>\n",
       "      <td>1.000000</td>\n",
       "      <td>NaN</td>\n",
       "      <td>NaN</td>\n",
       "      <td>NaN</td>\n",
       "    </tr>\n",
       "    <tr>\n",
       "      <th>roughness</th>\n",
       "      <td>0.801341</td>\n",
       "      <td>NaN</td>\n",
       "      <td>NaN</td>\n",
       "      <td>NaN</td>\n",
       "      <td>NaN</td>\n",
       "      <td>NaN</td>\n",
       "      <td>NaN</td>\n",
       "      <td>NaN</td>\n",
       "      <td>NaN</td>\n",
       "      <td>1.000000</td>\n",
       "      <td>NaN</td>\n",
       "      <td>NaN</td>\n",
       "    </tr>\n",
       "    <tr>\n",
       "      <th>tension_strength</th>\n",
       "      <td>NaN</td>\n",
       "      <td>NaN</td>\n",
       "      <td>NaN</td>\n",
       "      <td>NaN</td>\n",
       "      <td>-0.405908</td>\n",
       "      <td>NaN</td>\n",
       "      <td>NaN</td>\n",
       "      <td>NaN</td>\n",
       "      <td>NaN</td>\n",
       "      <td>NaN</td>\n",
       "      <td>1.000000</td>\n",
       "      <td>0.838109</td>\n",
       "    </tr>\n",
       "    <tr>\n",
       "      <th>elongation</th>\n",
       "      <td>0.507583</td>\n",
       "      <td>NaN</td>\n",
       "      <td>NaN</td>\n",
       "      <td>NaN</td>\n",
       "      <td>-0.527447</td>\n",
       "      <td>NaN</td>\n",
       "      <td>NaN</td>\n",
       "      <td>NaN</td>\n",
       "      <td>NaN</td>\n",
       "      <td>NaN</td>\n",
       "      <td>0.838109</td>\n",
       "      <td>1.000000</td>\n",
       "    </tr>\n",
       "  </tbody>\n",
       "</table>\n",
       "</div>"
      ],
      "text/plain": [
       "                    layer_height  wall_thickness  infill_density  \\\n",
       "layer_height            1.000000             NaN             NaN   \n",
       "wall_thickness               NaN        1.000000             NaN   \n",
       "infill_density               NaN             NaN             1.0   \n",
       "infill_pattern               NaN             NaN             NaN   \n",
       "nozzle_temperature           NaN             NaN             NaN   \n",
       "bed_temperature              NaN             NaN             NaN   \n",
       "print_speed                  NaN       -0.419531             NaN   \n",
       "material                     NaN             NaN             NaN   \n",
       "fan_speed                    NaN             NaN             NaN   \n",
       "roughness               0.801341             NaN             NaN   \n",
       "tension_strength             NaN             NaN             NaN   \n",
       "elongation              0.507583             NaN             NaN   \n",
       "\n",
       "                    infill_pattern  nozzle_temperature  bed_temperature  \\\n",
       "layer_height                   NaN                 NaN              NaN   \n",
       "wall_thickness                 NaN                 NaN              NaN   \n",
       "infill_density                 NaN                 NaN              NaN   \n",
       "infill_pattern                 1.0                 NaN              NaN   \n",
       "nozzle_temperature             NaN            1.000000         0.602453   \n",
       "bed_temperature                NaN            0.602453         1.000000   \n",
       "print_speed                    NaN                 NaN              NaN   \n",
       "material                       NaN           -0.783838              NaN   \n",
       "fan_speed                      NaN            0.602453         1.000000   \n",
       "roughness                      NaN                 NaN              NaN   \n",
       "tension_strength               NaN           -0.405908              NaN   \n",
       "elongation                     NaN           -0.527447              NaN   \n",
       "\n",
       "                    print_speed  material  fan_speed  roughness  \\\n",
       "layer_height                NaN       NaN        NaN   0.801341   \n",
       "wall_thickness        -0.419531       NaN        NaN        NaN   \n",
       "infill_density              NaN       NaN        NaN        NaN   \n",
       "infill_pattern              NaN       NaN        NaN        NaN   \n",
       "nozzle_temperature          NaN -0.783838   0.602453        NaN   \n",
       "bed_temperature             NaN       NaN   1.000000        NaN   \n",
       "print_speed            1.000000       NaN        NaN        NaN   \n",
       "material                    NaN  1.000000        NaN        NaN   \n",
       "fan_speed                   NaN       NaN   1.000000        NaN   \n",
       "roughness                   NaN       NaN        NaN   1.000000   \n",
       "tension_strength            NaN       NaN        NaN        NaN   \n",
       "elongation                  NaN       NaN        NaN        NaN   \n",
       "\n",
       "                    tension_strength  elongation  \n",
       "layer_height                     NaN    0.507583  \n",
       "wall_thickness                   NaN         NaN  \n",
       "infill_density                   NaN         NaN  \n",
       "infill_pattern                   NaN         NaN  \n",
       "nozzle_temperature         -0.405908   -0.527447  \n",
       "bed_temperature                  NaN         NaN  \n",
       "print_speed                      NaN         NaN  \n",
       "material                         NaN         NaN  \n",
       "fan_speed                        NaN         NaN  \n",
       "roughness                        NaN         NaN  \n",
       "tension_strength            1.000000    0.838109  \n",
       "elongation                  0.838109    1.000000  "
      ]
     },
     "execution_count": 18,
     "metadata": {},
     "output_type": "execute_result"
    }
   ],
   "source": [
    "df.corr()[abs(df.corr())>0.4]"
   ]
  },
  {
   "cell_type": "markdown",
   "metadata": {},
   "source": [
    "We kunnen de vif test doen om te kijken welke correlaties het hoogst zijn."
   ]
  },
  {
   "cell_type": "code",
   "execution_count": 6,
   "metadata": {},
   "outputs": [
    {
     "name": "stdout",
     "output_type": "stream",
     "text": [
      "Index(['layer_height', 'wall_thickness', 'infill_density', 'infill_pattern',\n",
      "       'nozzle_temperature', 'bed_temperature', 'print_speed', 'material',\n",
      "       'fan_speed', 'roughness', 'elongation'],\n",
      "      dtype='object')\n"
     ]
    },
    {
     "data": {
      "text/plain": [
       "'layer_height + wall_thickness + infill_density + infill_pattern + nozzle_temperature + bed_temperature + print_speed + material + fan_speed + roughness + elongation'"
      ]
     },
     "execution_count": 6,
     "metadata": {},
     "output_type": "execute_result"
    }
   ],
   "source": [
    "# we kunnen de join functie gebruiken om een list van strings aan elkaar te verbinden met ' + ' als seperator\n",
    "print(X.columns)\n",
    "' + '.join(list(X.columns))"
   ]
  },
  {
   "cell_type": "markdown",
   "metadata": {},
   "source": [
    "### Uitvoeren van VIF test"
   ]
  },
  {
   "cell_type": "code",
   "execution_count": 19,
   "metadata": {},
   "outputs": [
    {
     "name": "stderr",
     "output_type": "stream",
     "text": [
      "C:\\Users\\simch\\.conda\\envs\\AIVE\\lib\\site-packages\\statsmodels\\regression\\linear_model.py:1715: RuntimeWarning: divide by zero encountered in double_scalars\n",
      "  return 1 - self.ssr/self.centered_tss\n",
      "C:\\Users\\simch\\.conda\\envs\\AIVE\\lib\\site-packages\\statsmodels\\stats\\outliers_influence.py:193: RuntimeWarning: divide by zero encountered in double_scalars\n",
      "  vif = 1. / (1. - r_squared_i)\n"
     ]
    }
   ],
   "source": [
    "from statsmodels.stats.outliers_influence import variance_inflation_factor \n",
    "from patsy import dmatrices \n",
    "\n",
    "# het eerste argument in dmatrices is 'y ~ X1 + X2 + ... '. Hier moet je y en X vervangen door de kolomnamen van je dataframe\n",
    "y_vif, x_vif = dmatrices('tension_strength ~ ' + ' + '.join(list(X.columns)), data=df, return_type='dataframe') \n",
    "\n",
    "vif = pd.DataFrame() \n",
    "vif['variable'] = x_vif.columns \n",
    "vif['VIF'] = [variance_inflation_factor(x_vif.values, i) for i in range(x_vif.shape[1])]\n",
    "vif"
   ]
  },
  {
   "cell_type": "markdown",
   "metadata": {},
   "source": [
    "We zien hoge vif waardes. Dat betekent dat we wat kolommen moeten verwijderen. Probeer een aantal kolommen te verwijderen zodat alle vif waardes lager dan 5 zijn."
   ]
  },
  {
   "cell_type": "code",
   "execution_count": 27,
   "metadata": {},
   "outputs": [
    {
     "name": "stderr",
     "output_type": "stream",
     "text": [
      "C:\\Users\\simch\\.conda\\envs\\AIVE\\lib\\site-packages\\statsmodels\\regression\\linear_model.py:1715: RuntimeWarning: divide by zero encountered in double_scalars\n",
      "  return 1 - self.ssr/self.centered_tss\n",
      "C:\\Users\\simch\\.conda\\envs\\AIVE\\lib\\site-packages\\statsmodels\\stats\\outliers_influence.py:193: RuntimeWarning: divide by zero encountered in double_scalars\n",
      "  vif = 1. / (1. - r_squared_i)\n"
     ]
    },
    {
     "data": {
      "text/html": [
       "<div>\n",
       "<style scoped>\n",
       "    .dataframe tbody tr th:only-of-type {\n",
       "        vertical-align: middle;\n",
       "    }\n",
       "\n",
       "    .dataframe tbody tr th {\n",
       "        vertical-align: top;\n",
       "    }\n",
       "\n",
       "    .dataframe thead th {\n",
       "        text-align: right;\n",
       "    }\n",
       "</style>\n",
       "<table border=\"1\" class=\"dataframe\">\n",
       "  <thead>\n",
       "    <tr style=\"text-align: right;\">\n",
       "      <th></th>\n",
       "      <th>variable</th>\n",
       "      <th>VIF</th>\n",
       "    </tr>\n",
       "  </thead>\n",
       "  <tbody>\n",
       "    <tr>\n",
       "      <th>0</th>\n",
       "      <td>Intercept</td>\n",
       "      <td>0.000000</td>\n",
       "    </tr>\n",
       "    <tr>\n",
       "      <th>1</th>\n",
       "      <td>layer_height</td>\n",
       "      <td>9.135254</td>\n",
       "    </tr>\n",
       "    <tr>\n",
       "      <th>2</th>\n",
       "      <td>wall_thickness</td>\n",
       "      <td>1.483681</td>\n",
       "    </tr>\n",
       "    <tr>\n",
       "      <th>3</th>\n",
       "      <td>infill_density</td>\n",
       "      <td>1.551519</td>\n",
       "    </tr>\n",
       "    <tr>\n",
       "      <th>4</th>\n",
       "      <td>infill_pattern</td>\n",
       "      <td>1.093557</td>\n",
       "    </tr>\n",
       "    <tr>\n",
       "      <th>5</th>\n",
       "      <td>nozzle_temperature</td>\n",
       "      <td>93.229213</td>\n",
       "    </tr>\n",
       "    <tr>\n",
       "      <th>6</th>\n",
       "      <td>bed_temperature</td>\n",
       "      <td>inf</td>\n",
       "    </tr>\n",
       "    <tr>\n",
       "      <th>7</th>\n",
       "      <td>print_speed</td>\n",
       "      <td>1.568547</td>\n",
       "    </tr>\n",
       "    <tr>\n",
       "      <th>8</th>\n",
       "      <td>material</td>\n",
       "      <td>48.882993</td>\n",
       "    </tr>\n",
       "    <tr>\n",
       "      <th>9</th>\n",
       "      <td>fan_speed</td>\n",
       "      <td>inf</td>\n",
       "    </tr>\n",
       "    <tr>\n",
       "      <th>10</th>\n",
       "      <td>roughness</td>\n",
       "      <td>8.551466</td>\n",
       "    </tr>\n",
       "    <tr>\n",
       "      <th>11</th>\n",
       "      <td>elongation</td>\n",
       "      <td>3.749008</td>\n",
       "    </tr>\n",
       "  </tbody>\n",
       "</table>\n",
       "</div>"
      ],
      "text/plain": [
       "              variable        VIF\n",
       "0            Intercept   0.000000\n",
       "1         layer_height   9.135254\n",
       "2       wall_thickness   1.483681\n",
       "3       infill_density   1.551519\n",
       "4       infill_pattern   1.093557\n",
       "5   nozzle_temperature  93.229213\n",
       "6      bed_temperature        inf\n",
       "7          print_speed   1.568547\n",
       "8             material  48.882993\n",
       "9            fan_speed        inf\n",
       "10           roughness   8.551466\n",
       "11          elongation   3.749008"
      ]
     },
     "execution_count": 27,
     "metadata": {},
     "output_type": "execute_result"
    }
   ],
   "source": [
    "X = df.drop(['tension_strength'], axis = 'columns')\n",
    "from statsmodels.stats.outliers_influence import variance_inflation_factor \n",
    "from patsy import dmatrices \n",
    "\n",
    "# het eerste argument in dmatrices is 'y ~ X1 + X2 + ... '. Hier moet je y en X vervangen door de kolomnamen van je dataframe\n",
    "y_vif, x_vif = dmatrices('tension_strength ~ ' + ' + '.join(list(X.columns)), data=df, return_type='dataframe') \n",
    "\n",
    "vif = pd.DataFrame() \n",
    "vif['variable'] = x_vif.columns \n",
    "vif['VIF'] = [variance_inflation_factor(x_vif.values, i) for i in range(x_vif.shape[1])]\n",
    "vif"
   ]
  },
  {
   "cell_type": "markdown",
   "metadata": {},
   "source": [
    "### iteratief variabelen verwijderen voor betere R2adjusted"
   ]
  },
  {
   "cell_type": "code",
   "execution_count": 28,
   "metadata": {},
   "outputs": [],
   "source": [
    "X = df.drop(['tension_strength', 'fan_speed', 'material', 'layer_height'], axis = 'columns')"
   ]
  },
  {
   "cell_type": "code",
   "execution_count": 30,
   "metadata": {},
   "outputs": [],
   "source": [
    "# laten we eerst de data standardiseren\n",
    "Z = (X-X.mean())/X.std()"
   ]
  },
  {
   "cell_type": "code",
   "execution_count": 31,
   "metadata": {},
   "outputs": [],
   "source": [
    "# we can make a new \n",
    "x_train, x_test, y_train, y_test = train_test_split(Z, y, test_size=0.5, random_state=2)"
   ]
  },
  {
   "cell_type": "code",
   "execution_count": 32,
   "metadata": {},
   "outputs": [],
   "source": [
    "linreg = LinearRegression()\n",
    "linreg.fit(x_train, y_train)\n",
    "y_pred = linreg.predict(x_test)"
   ]
  },
  {
   "cell_type": "code",
   "execution_count": 33,
   "metadata": {},
   "outputs": [],
   "source": [
    "def R2adjusted(R2, n, p):\n",
    "    return 1-(1-R2)*(n-1)/(n-p-1)"
   ]
  },
  {
   "cell_type": "code",
   "execution_count": 34,
   "metadata": {},
   "outputs": [
    {
     "name": "stdout",
     "output_type": "stream",
     "text": [
      "MSE:  16.489549288473874\n",
      "R2:  0.7309146656580634\n",
      "R2adj 0.5963719984870951\n"
     ]
    }
   ],
   "source": [
    "print('MSE: ', mean_squared_error(y_test, y_pred))\n",
    "R2 = r2_score(y_test, y_pred)\n",
    "n = len(y_test)\n",
    "p = len(x_test.columns)\n",
    "R2adj = R2adjusted(R2, n, p)\n",
    "print('R2: ', R2)\n",
    "print('R2adj', R2adj)"
   ]
  },
  {
   "cell_type": "code",
   "execution_count": 35,
   "metadata": {},
   "outputs": [
    {
     "data": {
      "image/png": "[encoded data removed]",
      "text/plain": [
       "<Figure size 432x288 with 1 Axes>"
      ]
     },
     "metadata": {
      "needs_background": "light"
     },
     "output_type": "display_data"
    }
   ],
   "source": [
    "plt.scatter(y_test, y_pred)\n",
    "plt.plot([5, 35], [5, 35], 'r')\n",
    "\n",
    "plt.xlabel('Labels')\n",
    "plt.ylabel('Predictions')\n",
    "\n",
    "plt.show()"
   ]
  },
  {
   "cell_type": "code",
   "execution_count": 36,
   "metadata": {},
   "outputs": [
    {
     "data": {
      "text/plain": [
       "<BarContainer object of 8 artists>"
      ]
     },
     "execution_count": 36,
     "metadata": {},
     "output_type": "execute_result"
    },
    {
     "data": {
      "image/png": "[encoded data removed]",
      "text/plain": [
       "<Figure size 432x288 with 1 Axes>"
      ]
     },
     "metadata": {
      "needs_background": "light"
     },
     "output_type": "display_data"
    }
   ],
   "source": [
    "plt.barh(X.columns, linreg.coef_)"
   ]
  },
  {
   "cell_type": "markdown",
   "metadata": {},
   "source": [
    "We can see that nozzle temperature does not add a lot of 'predictiveness'. We can remove that column"
   ]
  },
  {
   "cell_type": "code",
   "execution_count": 38,
   "metadata": {},
   "outputs": [
    {
     "name": "stdout",
     "output_type": "stream",
     "text": [
      "R2:  0.7330950455922278\n",
      "R2adj 0.6231930055419688\n"
     ]
    }
   ],
   "source": [
    "# preprocess data\n",
    "X = df.drop(['tension_strength', 'fan_speed', 'material', 'layer_height', 'nozzle_temperature'], axis = 'columns')\n",
    "Z = (X-X.mean())/X.std()\n",
    "x_train, x_test, y_train, y_test = train_test_split(Z, y, test_size=0.5, random_state=2)\n",
    "\n",
    "# make a linear regression model\n",
    "linreg = LinearRegression()\n",
    "linreg.fit(x_train, y_train)\n",
    "y_pred = linreg.predict(x_test)\n",
    "\n",
    "# calculate metrics\n",
    "R2 = r2_score(y_test, y_pred)\n",
    "n = len(y_test)\n",
    "p = len(x_test.columns)\n",
    "R2adj = R2adjusted(R2, n, p)\n",
    "print('R2: ', R2)\n",
    "print('R2adj', R2adj)"
   ]
  },
  {
   "cell_type": "markdown",
   "metadata": {},
   "source": [
    "We see a small increase in the R2adj. That is very good. How about the beta's?"
   ]
  },
  {
   "cell_type": "code",
   "execution_count": 39,
   "metadata": {},
   "outputs": [
    {
     "data": {
      "text/plain": [
       "<BarContainer object of 7 artists>"
      ]
     },
     "execution_count": 39,
     "metadata": {},
     "output_type": "execute_result"
    },
    {
     "data": {
      "image/png": "[encoded data removed]",
      "text/plain": [
       "<Figure size 432x288 with 1 Axes>"
      ]
     },
     "metadata": {
      "needs_background": "light"
     },
     "output_type": "display_data"
    }
   ],
   "source": [
    "plt.barh(X.columns, linreg.coef_)"
   ]
  },
  {
   "cell_type": "markdown",
   "metadata": {},
   "source": [
    "Roughness and bed temperature don't add a lot. We can also remove those"
   ]
  },
  {
   "cell_type": "code",
   "execution_count": 40,
   "metadata": {},
   "outputs": [
    {
     "name": "stdout",
     "output_type": "stream",
     "text": [
      "R2:  0.7438840238479981\n",
      "R2adj 0.6764850827553661\n"
     ]
    }
   ],
   "source": [
    "# preprocess data\n",
    "X = df.drop(['tension_strength', 'fan_speed', 'material', 'layer_height', 'nozzle_temperature', \n",
    "             'bed_temperature', 'roughness'], axis = 'columns')\n",
    "Z = (X-X.mean())/X.std()\n",
    "x_train, x_test, y_train, y_test = train_test_split(Z, y, test_size=0.5, random_state=2)\n",
    "\n",
    "# make a linear regression model\n",
    "linreg = LinearRegression()\n",
    "linreg.fit(x_train, y_train)\n",
    "y_pred = linreg.predict(x_test)\n",
    "\n",
    "# calculate metrics\n",
    "R2 = r2_score(y_test, y_pred)\n",
    "n = len(y_test)\n",
    "p = len(x_test.columns)\n",
    "R2adj = R2adjusted(R2, n, p)\n",
    "print('R2: ', R2)\n",
    "print('R2adj', R2adj)"
   ]
  },
  {
   "cell_type": "markdown",
   "metadata": {},
   "source": [
    "Now we see both a increase in the R2 and R2adj. Can you try to make this model better by removing more columns?"
   ]
  },
  {
   "cell_type": "code",
   "execution_count": null,
   "metadata": {},
   "outputs": [],
   "source": []
  }
 ],
 "metadata": {
  "kernelspec": {
   "display_name": "Python 3 (ipykernel)",
   "language": "python",
   "name": "python3"
  },
  "language_info": {
   "codemirror_mode": {
    "name": "ipython",
    "version": 3
   },
   "file_extension": ".py",
   "mimetype": "text/x-python",
   "name": "python",
   "nbconvert_exporter": "python",
   "pygments_lexer": "ipython3",
   "version": "3.8.12"
  }
 },
 "nbformat": 4,
 "nbformat_minor": 4
}
