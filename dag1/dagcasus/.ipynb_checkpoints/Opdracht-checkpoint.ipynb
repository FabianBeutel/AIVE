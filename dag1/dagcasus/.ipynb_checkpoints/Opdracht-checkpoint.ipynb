{
 "cells": [
  {
   "cell_type": "markdown",
   "metadata": {},
   "source": [
    "# Packages"
   ]
  },
  {
   "cell_type": "code",
   "execution_count": 1,
   "metadata": {},
   "outputs": [],
   "source": [
    "import numpy as np\n",
    "import pandas as pd\n",
    "import matplotlib.pyplot as plt"
   ]
  },
  {
   "cell_type": "markdown",
   "metadata": {},
   "source": [
    "# Data inladen"
   ]
  },
  {
   "cell_type": "code",
   "execution_count": 4,
   "metadata": {},
   "outputs": [
    {
     "data": {
      "text/html": [
       "<div>\n",
       "<style scoped>\n",
       "    .dataframe tbody tr th:only-of-type {\n",
       "        vertical-align: middle;\n",
       "    }\n",
       "\n",
       "    .dataframe tbody tr th {\n",
       "        vertical-align: top;\n",
       "    }\n",
       "\n",
       "    .dataframe thead th {\n",
       "        text-align: right;\n",
       "    }\n",
       "</style>\n",
       "<table border=\"1\" class=\"dataframe\">\n",
       "  <thead>\n",
       "    <tr style=\"text-align: right;\">\n",
       "      <th></th>\n",
       "      <th>0</th>\n",
       "      <th>1</th>\n",
       "      <th>2</th>\n",
       "      <th>3</th>\n",
       "      <th>4</th>\n",
       "      <th>5</th>\n",
       "      <th>6</th>\n",
       "      <th>7</th>\n",
       "      <th>8</th>\n",
       "      <th>9</th>\n",
       "    </tr>\n",
       "  </thead>\n",
       "  <tbody>\n",
       "    <tr>\n",
       "      <th>0</th>\n",
       "      <td>1.026397</td>\n",
       "      <td>0.666043</td>\n",
       "      <td>-0.752644</td>\n",
       "      <td>1.502717</td>\n",
       "      <td>-0.067042</td>\n",
       "      <td>-1.654437</td>\n",
       "      <td>-1.035410</td>\n",
       "      <td>-1.623240</td>\n",
       "      <td>-2.130887</td>\n",
       "      <td>-1.835143</td>\n",
       "    </tr>\n",
       "    <tr>\n",
       "      <th>1</th>\n",
       "      <td>-1.245057</td>\n",
       "      <td>0.053788</td>\n",
       "      <td>1.046471</td>\n",
       "      <td>-1.458916</td>\n",
       "      <td>1.404498</td>\n",
       "      <td>0.513122</td>\n",
       "      <td>-0.301273</td>\n",
       "      <td>0.248279</td>\n",
       "      <td>-1.042178</td>\n",
       "      <td>1.186881</td>\n",
       "    </tr>\n",
       "    <tr>\n",
       "      <th>2</th>\n",
       "      <td>0.815026</td>\n",
       "      <td>0.112711</td>\n",
       "      <td>-0.887754</td>\n",
       "      <td>-2.733068</td>\n",
       "      <td>4.022820</td>\n",
       "      <td>-1.065507</td>\n",
       "      <td>2.021402</td>\n",
       "      <td>0.716342</td>\n",
       "      <td>-0.877650</td>\n",
       "      <td>-0.148142</td>\n",
       "    </tr>\n",
       "    <tr>\n",
       "      <th>3</th>\n",
       "      <td>2.335658</td>\n",
       "      <td>0.229771</td>\n",
       "      <td>0.101026</td>\n",
       "      <td>1.737285</td>\n",
       "      <td>-1.897913</td>\n",
       "      <td>-0.469591</td>\n",
       "      <td>-1.689371</td>\n",
       "      <td>-0.361446</td>\n",
       "      <td>-0.712653</td>\n",
       "      <td>1.237444</td>\n",
       "    </tr>\n",
       "    <tr>\n",
       "      <th>4</th>\n",
       "      <td>-0.622389</td>\n",
       "      <td>-0.778243</td>\n",
       "      <td>1.405687</td>\n",
       "      <td>0.143750</td>\n",
       "      <td>-1.600320</td>\n",
       "      <td>-0.495165</td>\n",
       "      <td>1.502277</td>\n",
       "      <td>0.085284</td>\n",
       "      <td>3.549090</td>\n",
       "      <td>0.846425</td>\n",
       "    </tr>\n",
       "  </tbody>\n",
       "</table>\n",
       "</div>"
      ],
      "text/plain": [
       "          0         1         2         3         4         5         6  \\\n",
       "0  1.026397  0.666043 -0.752644  1.502717 -0.067042 -1.654437 -1.035410   \n",
       "1 -1.245057  0.053788  1.046471 -1.458916  1.404498  0.513122 -0.301273   \n",
       "2  0.815026  0.112711 -0.887754 -2.733068  4.022820 -1.065507  2.021402   \n",
       "3  2.335658  0.229771  0.101026  1.737285 -1.897913 -0.469591 -1.689371   \n",
       "4 -0.622389 -0.778243  1.405687  0.143750 -1.600320 -0.495165  1.502277   \n",
       "\n",
       "          7         8         9  \n",
       "0 -1.623240 -2.130887 -1.835143  \n",
       "1  0.248279 -1.042178  1.186881  \n",
       "2  0.716342 -0.877650 -0.148142  \n",
       "3 -0.361446 -0.712653  1.237444  \n",
       "4  0.085284  3.549090  0.846425  "
      ]
     },
     "execution_count": 4,
     "metadata": {},
     "output_type": "execute_result"
    }
   ],
   "source": [
    "X = pd.read_csv(\"dataX.csv\")\n",
    "Y = pd.read_csv(\"dataY.csv\")\n",
    "X.head()"
   ]
  },
  {
   "cell_type": "code",
   "execution_count": 5,
   "metadata": {},
   "outputs": [
    {
     "data": {
      "text/html": [
       "<div>\n",
       "<style scoped>\n",
       "    .dataframe tbody tr th:only-of-type {\n",
       "        vertical-align: middle;\n",
       "    }\n",
       "\n",
       "    .dataframe tbody tr th {\n",
       "        vertical-align: top;\n",
       "    }\n",
       "\n",
       "    .dataframe thead th {\n",
       "        text-align: right;\n",
       "    }\n",
       "</style>\n",
       "<table border=\"1\" class=\"dataframe\">\n",
       "  <thead>\n",
       "    <tr style=\"text-align: right;\">\n",
       "      <th></th>\n",
       "      <th>0</th>\n",
       "    </tr>\n",
       "  </thead>\n",
       "  <tbody>\n",
       "    <tr>\n",
       "      <th>0</th>\n",
       "      <td>1</td>\n",
       "    </tr>\n",
       "    <tr>\n",
       "      <th>1</th>\n",
       "      <td>2</td>\n",
       "    </tr>\n",
       "    <tr>\n",
       "      <th>2</th>\n",
       "      <td>2</td>\n",
       "    </tr>\n",
       "    <tr>\n",
       "      <th>3</th>\n",
       "      <td>1</td>\n",
       "    </tr>\n",
       "    <tr>\n",
       "      <th>4</th>\n",
       "      <td>0</td>\n",
       "    </tr>\n",
       "  </tbody>\n",
       "</table>\n",
       "</div>"
      ],
      "text/plain": [
       "   0\n",
       "0  1\n",
       "1  2\n",
       "2  2\n",
       "3  1\n",
       "4  0"
      ]
     },
     "execution_count": 5,
     "metadata": {},
     "output_type": "execute_result"
    }
   ],
   "source": [
    "Y.head()"
   ]
  },
  {
   "cell_type": "code",
   "execution_count": 8,
   "metadata": {},
   "outputs": [
    {
     "data": {
      "text/plain": [
       "((10000, 10), (10000, 1))"
      ]
     },
     "execution_count": 8,
     "metadata": {},
     "output_type": "execute_result"
    }
   ],
   "source": [
    "X.shape, Y.shape"
   ]
  },
  {
   "cell_type": "code",
   "execution_count": 9,
   "metadata": {},
   "outputs": [
    {
     "data": {
      "text/html": [
       "<div>\n",
       "<style scoped>\n",
       "    .dataframe tbody tr th:only-of-type {\n",
       "        vertical-align: middle;\n",
       "    }\n",
       "\n",
       "    .dataframe tbody tr th {\n",
       "        vertical-align: top;\n",
       "    }\n",
       "\n",
       "    .dataframe thead th {\n",
       "        text-align: right;\n",
       "    }\n",
       "</style>\n",
       "<table border=\"1\" class=\"dataframe\">\n",
       "  <thead>\n",
       "    <tr style=\"text-align: right;\">\n",
       "      <th></th>\n",
       "      <th>0</th>\n",
       "      <th>1</th>\n",
       "      <th>2</th>\n",
       "      <th>3</th>\n",
       "      <th>4</th>\n",
       "      <th>5</th>\n",
       "      <th>6</th>\n",
       "      <th>7</th>\n",
       "      <th>8</th>\n",
       "      <th>9</th>\n",
       "    </tr>\n",
       "  </thead>\n",
       "  <tbody>\n",
       "    <tr>\n",
       "      <th>count</th>\n",
       "      <td>10000.000000</td>\n",
       "      <td>10000.000000</td>\n",
       "      <td>10000.000000</td>\n",
       "      <td>10000.000000</td>\n",
       "      <td>10000.000000</td>\n",
       "      <td>10000.000000</td>\n",
       "      <td>10000.000000</td>\n",
       "      <td>10000.000000</td>\n",
       "      <td>10000.000000</td>\n",
       "      <td>10000.000000</td>\n",
       "    </tr>\n",
       "    <tr>\n",
       "      <th>mean</th>\n",
       "      <td>-0.001808</td>\n",
       "      <td>-0.087402</td>\n",
       "      <td>-0.002679</td>\n",
       "      <td>-0.002719</td>\n",
       "      <td>-0.246175</td>\n",
       "      <td>-0.001702</td>\n",
       "      <td>0.007449</td>\n",
       "      <td>-0.018107</td>\n",
       "      <td>0.319590</td>\n",
       "      <td>0.011425</td>\n",
       "    </tr>\n",
       "    <tr>\n",
       "      <th>std</th>\n",
       "      <td>0.988193</td>\n",
       "      <td>0.458501</td>\n",
       "      <td>0.996856</td>\n",
       "      <td>1.538287</td>\n",
       "      <td>1.843502</td>\n",
       "      <td>1.008005</td>\n",
       "      <td>1.349541</td>\n",
       "      <td>1.002337</td>\n",
       "      <td>1.412961</td>\n",
       "      <td>0.990416</td>\n",
       "    </tr>\n",
       "    <tr>\n",
       "      <th>min</th>\n",
       "      <td>-3.873496</td>\n",
       "      <td>-1.501346</td>\n",
       "      <td>-3.972235</td>\n",
       "      <td>-4.851368</td>\n",
       "      <td>-5.835192</td>\n",
       "      <td>-3.684498</td>\n",
       "      <td>-4.934402</td>\n",
       "      <td>-3.888243</td>\n",
       "      <td>-5.047854</td>\n",
       "      <td>-4.215167</td>\n",
       "    </tr>\n",
       "    <tr>\n",
       "      <th>25%</th>\n",
       "      <td>-0.669064</td>\n",
       "      <td>-0.441387</td>\n",
       "      <td>-0.689930</td>\n",
       "      <td>-1.131596</td>\n",
       "      <td>-1.664988</td>\n",
       "      <td>-0.674240</td>\n",
       "      <td>-1.014443</td>\n",
       "      <td>-0.694359</td>\n",
       "      <td>-0.758711</td>\n",
       "      <td>-0.664209</td>\n",
       "    </tr>\n",
       "    <tr>\n",
       "      <th>50%</th>\n",
       "      <td>-0.003699</td>\n",
       "      <td>-0.109857</td>\n",
       "      <td>-0.004716</td>\n",
       "      <td>-0.045988</td>\n",
       "      <td>-0.445073</td>\n",
       "      <td>-0.009952</td>\n",
       "      <td>-0.059553</td>\n",
       "      <td>-0.009959</td>\n",
       "      <td>0.384401</td>\n",
       "      <td>0.005708</td>\n",
       "    </tr>\n",
       "    <tr>\n",
       "      <th>75%</th>\n",
       "      <td>0.659440</td>\n",
       "      <td>0.240889</td>\n",
       "      <td>0.676229</td>\n",
       "      <td>1.083311</td>\n",
       "      <td>0.967976</td>\n",
       "      <td>0.677083</td>\n",
       "      <td>1.005794</td>\n",
       "      <td>0.645756</td>\n",
       "      <td>1.323280</td>\n",
       "      <td>0.681297</td>\n",
       "    </tr>\n",
       "    <tr>\n",
       "      <th>max</th>\n",
       "      <td>4.489368</td>\n",
       "      <td>1.956131</td>\n",
       "      <td>4.044955</td>\n",
       "      <td>5.214201</td>\n",
       "      <td>7.406383</td>\n",
       "      <td>4.524336</td>\n",
       "      <td>5.362833</td>\n",
       "      <td>4.448669</td>\n",
       "      <td>5.898948</td>\n",
       "      <td>3.717930</td>\n",
       "    </tr>\n",
       "  </tbody>\n",
       "</table>\n",
       "</div>"
      ],
      "text/plain": [
       "                  0             1             2             3             4  \\\n",
       "count  10000.000000  10000.000000  10000.000000  10000.000000  10000.000000   \n",
       "mean      -0.001808     -0.087402     -0.002679     -0.002719     -0.246175   \n",
       "std        0.988193      0.458501      0.996856      1.538287      1.843502   \n",
       "min       -3.873496     -1.501346     -3.972235     -4.851368     -5.835192   \n",
       "25%       -0.669064     -0.441387     -0.689930     -1.131596     -1.664988   \n",
       "50%       -0.003699     -0.109857     -0.004716     -0.045988     -0.445073   \n",
       "75%        0.659440      0.240889      0.676229      1.083311      0.967976   \n",
       "max        4.489368      1.956131      4.044955      5.214201      7.406383   \n",
       "\n",
       "                  5             6             7             8             9  \n",
       "count  10000.000000  10000.000000  10000.000000  10000.000000  10000.000000  \n",
       "mean      -0.001702      0.007449     -0.018107      0.319590      0.011425  \n",
       "std        1.008005      1.349541      1.002337      1.412961      0.990416  \n",
       "min       -3.684498     -4.934402     -3.888243     -5.047854     -4.215167  \n",
       "25%       -0.674240     -1.014443     -0.694359     -0.758711     -0.664209  \n",
       "50%       -0.009952     -0.059553     -0.009959      0.384401      0.005708  \n",
       "75%        0.677083      1.005794      0.645756      1.323280      0.681297  \n",
       "max        4.524336      5.362833      4.448669      5.898948      3.717930  "
      ]
     },
     "execution_count": 9,
     "metadata": {},
     "output_type": "execute_result"
    }
   ],
   "source": [
    "X.describe()"
   ]
  },
  {
   "cell_type": "code",
   "execution_count": 17,
   "metadata": {},
   "outputs": [
    {
     "data": {
      "image/png": "[encoded data removed]",
      "text/plain": [
       "<Figure size 432x288 with 1 Axes>"
      ]
     },
     "metadata": {
      "needs_background": "light"
     },
     "output_type": "display_data"
    }
   ],
   "source": [
    "Y.hist()\n",
    "plt.show()"
   ]
  },
  {
   "cell_type": "code",
   "execution_count": 18,
   "metadata": {},
   "outputs": [
    {
     "data": {
      "text/plain": [
       "<AxesSubplot:>"
      ]
     },
     "execution_count": 18,
     "metadata": {},
     "output_type": "execute_result"
    },
    {
     "data": {
      "image/png": "[encoded data removed]",
      "text/plain": [
       "<Figure size 432x288 with 1 Axes>"
      ]
     },
     "metadata": {
      "needs_background": "light"
     },
     "output_type": "display_data"
    }
   ],
   "source": [
    "X.boxplot()"
   ]
  },
  {
   "cell_type": "code",
   "execution_count": 44,
   "metadata": {},
   "outputs": [],
   "source": [
    "from mpl_toolkits.mplot3d import axes3d"
   ]
  },
  {
   "cell_type": "code",
   "execution_count": 99,
   "metadata": {},
   "outputs": [
    {
     "name": "stderr",
     "output_type": "stream",
     "text": [
      "C:\\Users\\simch\\.conda\\envs\\AIVE\\lib\\site-packages\\matplotlib\\collections.py:922: RuntimeWarning: invalid value encountered in sqrt\n",
      "  scale = np.sqrt(self._sizes) * dpi / 72.0 * self._factor\n"
     ]
    },
    {
     "data": {
      "text/plain": [
       "<mpl_toolkits.mplot3d.art3d.Path3DCollection at 0x2520cd718b0>"
      ]
     },
     "execution_count": 99,
     "metadata": {},
     "output_type": "execute_result"
    },
    {
     "data": {
      "image/png": "[encoded data removed]",
      "text/plain": [
       "<Figure size 432x432 with 1 Axes>"
      ]
     },
     "metadata": {
      "needs_background": "light"
     },
     "output_type": "display_data"
    }
   ],
   "source": [
    "fig = plt.figure(figsize = (6, 6))\n",
    "ax = fig.gca(projection='3d')\n",
    "\n",
    "colors = []\n",
    "for elem in Y.values:\n",
    "    if elem == 0:\n",
    "        colors.append('b')\n",
    "    if elem == 1:\n",
    "        colors.append('r')\n",
    "    if elem == 2:\n",
    "        colors.append('g')\n",
    "plt.scatter(X.loc[:, '3'], X.loc[:, '4'], X.loc[:, '6'], c = colors)"
   ]
  },
  {
   "cell_type": "markdown",
   "metadata": {},
   "source": [
    "# Opdracht\n",
    "De kolommen van de data zijn verwijderd en de context wordt ook niet verteld. Kan je op alleen de data een goede classifier maken?\n",
    "\n",
    "Maak de beste classifier om de drie classes in `dataY.csv` te onderscheiden. Hoe veel accuracy kan je halen?"
   ]
  },
  {
   "cell_type": "code",
   "execution_count": 87,
   "metadata": {},
   "outputs": [
    {
     "name": "stdout",
     "output_type": "stream",
     "text": [
      "(7000, 1)\n"
     ]
    }
   ],
   "source": [
    "from sklearn.model_selection import train_test_split\n",
    "x_train, x_test, y_train, y_test = train_test_split(X, Y, test_size = 0.3, random_state = 3)\n",
    "print(y_train.shape)\n",
    "y_train = y_train.loc[:, '0']"
   ]
  },
  {
   "cell_type": "code",
   "execution_count": 88,
   "metadata": {},
   "outputs": [
    {
     "data": {
      "text/plain": [
       "(7000,)"
      ]
     },
     "execution_count": 88,
     "metadata": {},
     "output_type": "execute_result"
    }
   ],
   "source": [
    "y_train.shape"
   ]
  },
  {
   "cell_type": "code",
   "execution_count": 89,
   "metadata": {},
   "outputs": [
    {
     "data": {
      "text/plain": [
       "((7000, 10), (3000, 10))"
      ]
     },
     "execution_count": 89,
     "metadata": {},
     "output_type": "execute_result"
    }
   ],
   "source": [
    "x_train.shape, x_test.shape"
   ]
  },
  {
   "cell_type": "code",
   "execution_count": 90,
   "metadata": {},
   "outputs": [
    {
     "data": {
      "text/plain": [
       "0.8763333333333333"
      ]
     },
     "execution_count": 90,
     "metadata": {},
     "output_type": "execute_result"
    }
   ],
   "source": [
    "from sklearn.ensemble import RandomForestClassifier\n",
    "from sklearn.tree import plot_tree\n",
    "from sklearn.metrics import accuracy_score\n",
    "RF = RandomForestClassifier()\n",
    "y_pred = RF.fit(x_train, y_train).predict(x_test)\n",
    "accuracy_score(y_pred, y_test)"
   ]
  },
  {
   "cell_type": "code",
   "execution_count": 91,
   "metadata": {},
   "outputs": [
    {
     "data": {
      "image/png": "[encoded data removed]",
      "text/plain": [
       "<Figure size 432x288 with 1 Axes>"
      ]
     },
     "metadata": {
      "needs_background": "light"
     },
     "output_type": "display_data"
    }
   ],
   "source": [
    "FI = RF.feature_importances_\n",
    "plot_x = np.arange(len(FI))\n",
    "plt.bar(x_train.columns, FI)\n",
    "plt.show()"
   ]
  },
  {
   "cell_type": "code",
   "execution_count": 94,
   "metadata": {},
   "outputs": [
    {
     "data": {
      "text/plain": [
       "0.876"
      ]
     },
     "execution_count": 94,
     "metadata": {},
     "output_type": "execute_result"
    }
   ],
   "source": [
    "RF_new = RandomForestClassifier()\n",
    "x_train_new = x_train.drop(['0', '2', '5', '7', '9'], axis = 1)\n",
    "x_test_new = x_test.drop(['0', '2', '5', '7', '9'], axis = 1)\n",
    "y_pred = RF_new.fit(x_train_new, y_train).predict(x_test_new)\n",
    "accuracy_score(y_pred, y_test)"
   ]
  },
  {
   "cell_type": "code",
   "execution_count": 95,
   "metadata": {},
   "outputs": [
    {
     "data": {
      "text/html": [
       "<div>\n",
       "<style scoped>\n",
       "    .dataframe tbody tr th:only-of-type {\n",
       "        vertical-align: middle;\n",
       "    }\n",
       "\n",
       "    .dataframe tbody tr th {\n",
       "        vertical-align: top;\n",
       "    }\n",
       "\n",
       "    .dataframe thead th {\n",
       "        text-align: right;\n",
       "    }\n",
       "</style>\n",
       "<table border=\"1\" class=\"dataframe\">\n",
       "  <thead>\n",
       "    <tr style=\"text-align: right;\">\n",
       "      <th></th>\n",
       "      <th>1</th>\n",
       "      <th>3</th>\n",
       "      <th>4</th>\n",
       "      <th>6</th>\n",
       "      <th>8</th>\n",
       "    </tr>\n",
       "  </thead>\n",
       "  <tbody>\n",
       "    <tr>\n",
       "      <th>5795</th>\n",
       "      <td>-0.859022</td>\n",
       "      <td>-2.442748</td>\n",
       "      <td>-0.001408</td>\n",
       "      <td>0.240640</td>\n",
       "      <td>2.027093</td>\n",
       "    </tr>\n",
       "    <tr>\n",
       "      <th>1490</th>\n",
       "      <td>-0.403181</td>\n",
       "      <td>-0.817144</td>\n",
       "      <td>0.162330</td>\n",
       "      <td>1.028734</td>\n",
       "      <td>1.509147</td>\n",
       "    </tr>\n",
       "    <tr>\n",
       "      <th>3807</th>\n",
       "      <td>-0.051454</td>\n",
       "      <td>0.803724</td>\n",
       "      <td>-0.465071</td>\n",
       "      <td>0.874304</td>\n",
       "      <td>0.959759</td>\n",
       "    </tr>\n",
       "    <tr>\n",
       "      <th>3042</th>\n",
       "      <td>-0.949531</td>\n",
       "      <td>1.406411</td>\n",
       "      <td>-3.066618</td>\n",
       "      <td>1.972450</td>\n",
       "      <td>4.995046</td>\n",
       "    </tr>\n",
       "    <tr>\n",
       "      <th>4064</th>\n",
       "      <td>0.415525</td>\n",
       "      <td>3.777353</td>\n",
       "      <td>-1.173342</td>\n",
       "      <td>2.416782</td>\n",
       "      <td>1.389468</td>\n",
       "    </tr>\n",
       "  </tbody>\n",
       "</table>\n",
       "</div>"
      ],
      "text/plain": [
       "             1         3         4         6         8\n",
       "5795 -0.859022 -2.442748 -0.001408  0.240640  2.027093\n",
       "1490 -0.403181 -0.817144  0.162330  1.028734  1.509147\n",
       "3807 -0.051454  0.803724 -0.465071  0.874304  0.959759\n",
       "3042 -0.949531  1.406411 -3.066618  1.972450  4.995046\n",
       "4064  0.415525  3.777353 -1.173342  2.416782  1.389468"
      ]
     },
     "execution_count": 95,
     "metadata": {},
     "output_type": "execute_result"
    }
   ],
   "source": [
    "x_train_new.head()"
   ]
  },
  {
   "cell_type": "code",
   "execution_count": 97,
   "metadata": {},
   "outputs": [
    {
     "data": {
      "image/png": "[encoded data removed]",
      "text/plain": [
       "<Figure size 432x288 with 1 Axes>"
      ]
     },
     "metadata": {
      "needs_background": "light"
     },
     "output_type": "display_data"
    }
   ],
   "source": [
    "FI = RF_new.feature_importances_\n",
    "plot_x = np.arange(len(FI))\n",
    "plt.bar(x_train_new.columns, FI)\n",
    "plt.show()"
   ]
  },
  {
   "cell_type": "code",
   "execution_count": 102,
   "metadata": {},
   "outputs": [
    {
     "data": {
      "text/plain": [
       "0.848"
      ]
     },
     "execution_count": 102,
     "metadata": {},
     "output_type": "execute_result"
    }
   ],
   "source": [
    "from sklearn.svm import SVC\n",
    "svm_clf = SVC()\n",
    "y_pred = svm_clf.fit(x_train, y_train).predict(x_test)\n",
    "accuracy_score(y_pred, y_test)"
   ]
  },
  {
   "cell_type": "code",
   "execution_count": 109,
   "metadata": {},
   "outputs": [
    {
     "data": {
      "text/plain": [
       "0.856"
      ]
     },
     "execution_count": 109,
     "metadata": {},
     "output_type": "execute_result"
    }
   ],
   "source": [
    "svm_clf = SVC()\n",
    "y_pred = svm_clf.fit(x_train_new, y_train).predict(x_test_new)\n",
    "accuracy_score(y_pred, y_test)"
   ]
  },
  {
   "cell_type": "code",
   "execution_count": 117,
   "metadata": {
    "scrolled": true
   },
   "outputs": [
    {
     "name": "stdout",
     "output_type": "stream",
     "text": [
      "Iteration 1, loss = 1.11027052\n",
      "Iteration 2, loss = 1.01054386\n",
      "Iteration 3, loss = 0.79895140\n",
      "Iteration 4, loss = 0.74463498\n",
      "Iteration 5, loss = 0.65608095\n",
      "Iteration 6, loss = 0.59889804\n",
      "Iteration 7, loss = 0.59230603\n",
      "Iteration 8, loss = 0.59608905\n",
      "Iteration 9, loss = 0.58814216\n",
      "Iteration 10, loss = 0.58798173\n",
      "Iteration 11, loss = 0.58423418\n",
      "Iteration 12, loss = 0.58642097\n",
      "Iteration 13, loss = 0.58708643\n",
      "Iteration 14, loss = 0.58276633\n",
      "Iteration 15, loss = 0.58285717\n",
      "Iteration 16, loss = 0.57708526\n",
      "Iteration 17, loss = 0.57492776\n",
      "Iteration 18, loss = 0.57313333\n",
      "Iteration 19, loss = 0.56917618\n",
      "Iteration 20, loss = 0.56325661\n",
      "Iteration 21, loss = 0.56484687\n",
      "Iteration 22, loss = 0.55942446\n",
      "Iteration 23, loss = 0.55475468\n",
      "Iteration 24, loss = 0.54004457\n",
      "Iteration 25, loss = 0.53086638\n",
      "Iteration 26, loss = 0.51884390\n",
      "Iteration 27, loss = 0.51109168\n",
      "Iteration 28, loss = 0.49759621\n",
      "Iteration 29, loss = 0.48709188\n",
      "Iteration 30, loss = 0.47286939\n",
      "Iteration 31, loss = 0.46609825\n",
      "Iteration 32, loss = 0.45697282\n",
      "Iteration 33, loss = 0.45535768\n",
      "Iteration 34, loss = 0.45430411\n",
      "Iteration 35, loss = 0.44826132\n",
      "Iteration 36, loss = 0.44422469\n",
      "Iteration 37, loss = 0.44659797\n",
      "Iteration 38, loss = 0.43877110\n",
      "Iteration 39, loss = 0.44638194\n",
      "Iteration 40, loss = 0.43712496\n",
      "Iteration 41, loss = 0.43468010\n",
      "Iteration 42, loss = 0.42913360\n",
      "Iteration 43, loss = 0.42465692\n",
      "Iteration 44, loss = 0.42529240\n",
      "Iteration 45, loss = 0.42098733\n",
      "Iteration 46, loss = 0.42403339\n",
      "Iteration 47, loss = 0.41847437\n",
      "Iteration 48, loss = 0.41147358\n",
      "Iteration 49, loss = 0.41591292\n",
      "Iteration 50, loss = 0.40868997\n",
      "Iteration 51, loss = 0.40616855\n",
      "Iteration 52, loss = 0.40638237\n",
      "Iteration 53, loss = 0.40563029\n",
      "Iteration 54, loss = 0.40040255\n",
      "Iteration 55, loss = 0.39521316\n",
      "Iteration 56, loss = 0.39061762\n",
      "Iteration 57, loss = 0.38907077\n",
      "Iteration 58, loss = 0.38422867\n",
      "Iteration 59, loss = 0.38226529\n",
      "Iteration 60, loss = 0.37723661\n",
      "Iteration 61, loss = 0.37572400\n",
      "Iteration 62, loss = 0.37310175\n",
      "Iteration 63, loss = 0.36957629\n",
      "Iteration 64, loss = 0.36763974\n",
      "Iteration 65, loss = 0.36822052\n",
      "Iteration 66, loss = 0.36259988\n",
      "Iteration 67, loss = 0.36367593\n",
      "Iteration 68, loss = 0.36291843\n",
      "Iteration 69, loss = 0.35691502\n",
      "Iteration 70, loss = 0.36006233\n",
      "Iteration 71, loss = 0.35269614\n",
      "Iteration 72, loss = 0.35298375\n",
      "Iteration 73, loss = 0.35760113\n",
      "Iteration 74, loss = 0.34907677\n",
      "Iteration 75, loss = 0.34765665\n",
      "Iteration 76, loss = 0.34894764\n",
      "Iteration 77, loss = 0.34717953\n",
      "Iteration 78, loss = 0.34444329\n",
      "Iteration 79, loss = 0.34261464\n",
      "Iteration 80, loss = 0.34056921\n",
      "Iteration 81, loss = 0.34289175\n",
      "Iteration 82, loss = 0.33925913\n",
      "Iteration 83, loss = 0.33765404\n",
      "Iteration 84, loss = 0.33945822\n",
      "Iteration 85, loss = 0.33542532\n",
      "Iteration 86, loss = 0.33492932\n",
      "Iteration 87, loss = 0.33076675\n",
      "Iteration 88, loss = 0.33108454\n",
      "Iteration 89, loss = 0.33084734\n",
      "Iteration 90, loss = 0.33187007\n",
      "Iteration 91, loss = 0.32892363\n",
      "Iteration 92, loss = 0.32702195\n",
      "Iteration 93, loss = 0.32599620\n",
      "Iteration 94, loss = 0.32488444\n",
      "Iteration 95, loss = 0.32673645\n",
      "Iteration 96, loss = 0.32294790\n",
      "Iteration 97, loss = 0.32372246\n",
      "Iteration 98, loss = 0.32232371\n",
      "Iteration 99, loss = 0.31766070\n",
      "Iteration 100, loss = 0.31858500\n",
      "Iteration 101, loss = 0.31313743\n",
      "Iteration 102, loss = 0.31688724\n",
      "Iteration 103, loss = 0.32087222\n",
      "Iteration 104, loss = 0.31121702\n",
      "Iteration 105, loss = 0.30865710\n",
      "Iteration 106, loss = 0.31183273\n",
      "Iteration 107, loss = 0.30393779\n",
      "Iteration 108, loss = 0.30000346\n",
      "Iteration 109, loss = 0.29983861\n",
      "Iteration 110, loss = 0.30230126\n",
      "Iteration 111, loss = 0.29506670\n",
      "Iteration 112, loss = 0.29383373\n",
      "Iteration 113, loss = 0.29025987\n",
      "Iteration 114, loss = 0.28845105\n",
      "Iteration 115, loss = 0.28949163\n",
      "Iteration 116, loss = 0.28498766\n",
      "Iteration 117, loss = 0.28366617\n",
      "Iteration 118, loss = 0.27959133\n",
      "Iteration 119, loss = 0.28043121\n",
      "Iteration 120, loss = 0.27954765\n",
      "Iteration 121, loss = 0.28831502\n",
      "Iteration 122, loss = 0.28006189\n",
      "Iteration 123, loss = 0.27174886\n",
      "Iteration 124, loss = 0.27400970\n",
      "Iteration 125, loss = 0.27041626\n",
      "Iteration 126, loss = 0.26889552\n",
      "Iteration 127, loss = 0.26558746\n",
      "Iteration 128, loss = 0.27264135\n",
      "Iteration 129, loss = 0.26543554\n",
      "Iteration 130, loss = 0.26662097\n",
      "Iteration 131, loss = 0.26521592\n",
      "Iteration 132, loss = 0.26297468\n",
      "Iteration 133, loss = 0.26293229\n",
      "Iteration 134, loss = 0.26237286\n",
      "Iteration 135, loss = 0.25933774\n",
      "Iteration 136, loss = 0.26056198\n",
      "Iteration 137, loss = 0.25986607\n",
      "Iteration 138, loss = 0.26515361\n",
      "Iteration 139, loss = 0.25748781\n",
      "Iteration 140, loss = 0.25593550\n",
      "Iteration 141, loss = 0.25601299\n",
      "Iteration 142, loss = 0.25761573\n",
      "Iteration 143, loss = 0.25750357\n",
      "Iteration 144, loss = 0.25646759\n",
      "Iteration 145, loss = 0.25645940\n",
      "Iteration 146, loss = 0.25689842\n",
      "Iteration 147, loss = 0.25616315\n",
      "Iteration 148, loss = 0.25452152\n",
      "Iteration 149, loss = 0.25370975\n",
      "Iteration 150, loss = 0.25442401\n",
      "Iteration 151, loss = 0.25262415\n",
      "Iteration 152, loss = 0.25594796\n",
      "Iteration 153, loss = 0.25218076\n",
      "Iteration 154, loss = 0.25173199\n",
      "Iteration 155, loss = 0.25533701\n",
      "Iteration 156, loss = 0.26669679\n",
      "Iteration 157, loss = 0.25458114\n",
      "Iteration 158, loss = 0.25294173\n",
      "Iteration 159, loss = 0.25290146\n",
      "Iteration 160, loss = 0.25936498\n",
      "Iteration 161, loss = 0.25215655\n",
      "Iteration 162, loss = 0.24842941\n",
      "Iteration 163, loss = 0.24930591\n",
      "Iteration 164, loss = 0.25140560\n",
      "Iteration 165, loss = 0.24966630\n",
      "Iteration 166, loss = 0.24941243\n",
      "Iteration 167, loss = 0.25023858\n",
      "Iteration 168, loss = 0.24890236\n",
      "Iteration 169, loss = 0.25029786\n",
      "Iteration 170, loss = 0.24941930\n",
      "Iteration 171, loss = 0.24987738\n",
      "Iteration 172, loss = 0.24788649\n",
      "Iteration 173, loss = 0.24857600\n",
      "Iteration 174, loss = 0.24622765\n",
      "Iteration 175, loss = 0.24910722\n",
      "Iteration 176, loss = 0.25032856\n",
      "Iteration 177, loss = 0.24650088\n",
      "Iteration 178, loss = 0.24882372\n",
      "Iteration 179, loss = 0.24896004\n",
      "Iteration 180, loss = 0.24945769\n",
      "Iteration 181, loss = 0.24814766\n",
      "Iteration 182, loss = 0.24790809\n",
      "Iteration 183, loss = 0.24569743\n",
      "Iteration 184, loss = 0.24779528\n",
      "Iteration 185, loss = 0.24614362\n",
      "Iteration 186, loss = 0.24560123\n",
      "Iteration 187, loss = 0.24564306\n",
      "Iteration 188, loss = 0.25003373\n",
      "Iteration 189, loss = 0.24806835\n",
      "Iteration 190, loss = 0.24450951\n",
      "Iteration 191, loss = 0.24648393\n",
      "Iteration 192, loss = 0.24670778\n",
      "Iteration 193, loss = 0.24421681\n",
      "Iteration 194, loss = 0.24566433\n",
      "Iteration 195, loss = 0.24964884\n",
      "Iteration 196, loss = 0.24438737\n",
      "Iteration 197, loss = 0.24724501\n",
      "Iteration 198, loss = 0.24434463\n",
      "Iteration 199, loss = 0.24385998\n",
      "Iteration 200, loss = 0.24720003\n"
     ]
    },
    {
     "name": "stderr",
     "output_type": "stream",
     "text": [
      "C:\\Users\\simch\\.conda\\envs\\AIVE\\lib\\site-packages\\sklearn\\neural_network\\_multilayer_perceptron.py:582: ConvergenceWarning: Stochastic Optimizer: Maximum iterations (200) reached and the optimization hasn't converged yet.\n",
      "  warnings.warn(\n"
     ]
    },
    {
     "data": {
      "text/plain": [
       "0.9036666666666666"
      ]
     },
     "execution_count": 117,
     "metadata": {},
     "output_type": "execute_result"
    }
   ],
   "source": [
    "from sklearn.neural_network import MLPClassifier\n",
    "NN = MLPClassifier(hidden_layer_sizes=(124, 256, 512), activation = 'logistic', verbose = True)\n",
    "y_pred = NN.fit(x_train_new, y_train).predict(x_test_new)\n",
    "accuracy_score(y_pred, y_test)"
   ]
  },
  {
   "cell_type": "code",
   "execution_count": null,
   "metadata": {},
   "outputs": [],
   "source": []
  }
 ],
 "metadata": {
  "kernelspec": {
   "display_name": "Python 3",
   "language": "python",
   "name": "python3"
  },
  "language_info": {
   "codemirror_mode": {
    "name": "ipython",
    "version": 3
   },
   "file_extension": ".py",
   "mimetype": "text/x-python",
   "name": "python",
   "nbconvert_exporter": "python",
   "pygments_lexer": "ipython3",
   "version": "3.8.5"
  }
 },
 "nbformat": 4,
 "nbformat_minor": 4
}
