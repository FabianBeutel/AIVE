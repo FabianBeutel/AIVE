{
 "cells": [
  {
   "cell_type": "markdown",
   "id": "54092336",
   "metadata": {},
   "source": [
    "## Classificatie onderzoek\n",
    "Ga naar [https://scikit-learn.org/stable/supervised_learning.html#supervised-learning](https://scikit-learn.org/stable/supervised_learning.html#supervised-learning) en zoek een nieuw classificatie algoritme. Gebruik dit algoritme om de materiaal variabele te voorspellen in de 3D printer dataset. Werkt dit beter of slechter dan Decision Trees, Random Forest of Neurale netwerken?"
   ]
  },
  {
   "cell_type": "code",
   "execution_count": null,
   "id": "2cf781f9",
   "metadata": {},
   "outputs": [],
   "source": []
  }
 ],
 "metadata": {
  "kernelspec": {
   "display_name": "Python 3 (ipykernel)",
   "language": "python",
   "name": "python3"
  },
  "language_info": {
   "codemirror_mode": {
    "name": "ipython",
    "version": 3
   },
   "file_extension": ".py",
   "mimetype": "text/x-python",
   "name": "python",
   "nbconvert_exporter": "python",
   "pygments_lexer": "ipython3",
   "version": "3.8.12"
  }
 },
 "nbformat": 4,
 "nbformat_minor": 5
}
