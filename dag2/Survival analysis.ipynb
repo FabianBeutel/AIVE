{
 "cells": [
  {
   "cell_type": "code",
   "execution_count": 1,
   "id": "1219c25f",
   "metadata": {},
   "outputs": [],
   "source": [
    "import pandas as pd\n",
    "import matplotlib.pyplot as plt"
   ]
  },
  {
   "cell_type": "code",
   "execution_count": 2,
   "id": "ec275c72",
   "metadata": {},
   "outputs": [],
   "source": [
    "import warnings\n",
    "warnings.filterwarnings(\"ignore\")"
   ]
  },
  {
   "cell_type": "code",
   "execution_count": 3,
   "id": "26b80c29",
   "metadata": {},
   "outputs": [
    {
     "data": {
      "text/html": [
       "<div>\n",
       "<style scoped>\n",
       "    .dataframe tbody tr th:only-of-type {\n",
       "        vertical-align: middle;\n",
       "    }\n",
       "\n",
       "    .dataframe tbody tr th {\n",
       "        vertical-align: top;\n",
       "    }\n",
       "\n",
       "    .dataframe thead th {\n",
       "        text-align: right;\n",
       "    }\n",
       "</style>\n",
       "<table border=\"1\" class=\"dataframe\">\n",
       "  <thead>\n",
       "    <tr style=\"text-align: right;\">\n",
       "      <th></th>\n",
       "      <th>lifetime</th>\n",
       "      <th>broken</th>\n",
       "      <th>pressureInd</th>\n",
       "      <th>moistureInd</th>\n",
       "      <th>temperatureInd</th>\n",
       "      <th>team</th>\n",
       "      <th>provider</th>\n",
       "      <th>censored</th>\n",
       "    </tr>\n",
       "  </thead>\n",
       "  <tbody>\n",
       "    <tr>\n",
       "      <th>52</th>\n",
       "      <td>1</td>\n",
       "      <td>0</td>\n",
       "      <td>72.423129</td>\n",
       "      <td>120.484155</td>\n",
       "      <td>116.400433</td>\n",
       "      <td>TeamB</td>\n",
       "      <td>Provider2</td>\n",
       "      <td>1</td>\n",
       "    </tr>\n",
       "    <tr>\n",
       "      <th>205</th>\n",
       "      <td>1</td>\n",
       "      <td>0</td>\n",
       "      <td>92.100802</td>\n",
       "      <td>89.994611</td>\n",
       "      <td>97.292290</td>\n",
       "      <td>TeamB</td>\n",
       "      <td>Provider1</td>\n",
       "      <td>1</td>\n",
       "    </tr>\n",
       "    <tr>\n",
       "      <th>464</th>\n",
       "      <td>1</td>\n",
       "      <td>0</td>\n",
       "      <td>141.042595</td>\n",
       "      <td>113.358822</td>\n",
       "      <td>91.310554</td>\n",
       "      <td>TeamC</td>\n",
       "      <td>Provider2</td>\n",
       "      <td>1</td>\n",
       "    </tr>\n",
       "    <tr>\n",
       "      <th>71</th>\n",
       "      <td>1</td>\n",
       "      <td>0</td>\n",
       "      <td>107.785993</td>\n",
       "      <td>117.390336</td>\n",
       "      <td>113.377308</td>\n",
       "      <td>TeamB</td>\n",
       "      <td>Provider4</td>\n",
       "      <td>1</td>\n",
       "    </tr>\n",
       "    <tr>\n",
       "      <th>209</th>\n",
       "      <td>1</td>\n",
       "      <td>0</td>\n",
       "      <td>104.658530</td>\n",
       "      <td>107.537666</td>\n",
       "      <td>126.374317</td>\n",
       "      <td>TeamB</td>\n",
       "      <td>Provider1</td>\n",
       "      <td>1</td>\n",
       "    </tr>\n",
       "  </tbody>\n",
       "</table>\n",
       "</div>"
      ],
      "text/plain": [
       "     lifetime  broken  pressureInd  moistureInd  temperatureInd   team  \\\n",
       "52          1       0    72.423129   120.484155      116.400433  TeamB   \n",
       "205         1       0    92.100802    89.994611       97.292290  TeamB   \n",
       "464         1       0   141.042595   113.358822       91.310554  TeamC   \n",
       "71          1       0   107.785993   117.390336      113.377308  TeamB   \n",
       "209         1       0   104.658530   107.537666      126.374317  TeamB   \n",
       "\n",
       "      provider  censored  \n",
       "52   Provider2         1  \n",
       "205  Provider1         1  \n",
       "464  Provider2         1  \n",
       "71   Provider4         1  \n",
       "209  Provider1         1  "
      ]
     },
     "execution_count": 3,
     "metadata": {},
     "output_type": "execute_result"
    }
   ],
   "source": [
    "df = pd.read_csv(\"survival_data.csv\")\n",
    "df['censored'] = 1-df.broken\n",
    "df = df.sort_values('lifetime')\n",
    "df.head()"
   ]
  },
  {
   "cell_type": "code",
   "execution_count": 4,
   "id": "795890e6",
   "metadata": {},
   "outputs": [
    {
     "data": {
      "text/html": [
       "<div>\n",
       "<style scoped>\n",
       "    .dataframe tbody tr th:only-of-type {\n",
       "        vertical-align: middle;\n",
       "    }\n",
       "\n",
       "    .dataframe tbody tr th {\n",
       "        vertical-align: top;\n",
       "    }\n",
       "\n",
       "    .dataframe thead th {\n",
       "        text-align: right;\n",
       "    }\n",
       "</style>\n",
       "<table border=\"1\" class=\"dataframe\">\n",
       "  <thead>\n",
       "    <tr style=\"text-align: right;\">\n",
       "      <th></th>\n",
       "      <th>lifetime</th>\n",
       "      <th>broken</th>\n",
       "      <th>censored</th>\n",
       "      <th>n_sample</th>\n",
       "      <th>HF</th>\n",
       "      <th>cHF</th>\n",
       "      <th>survival</th>\n",
       "    </tr>\n",
       "  </thead>\n",
       "  <tbody>\n",
       "    <tr>\n",
       "      <th>0</th>\n",
       "      <td>1</td>\n",
       "      <td>0</td>\n",
       "      <td>5</td>\n",
       "      <td>1000</td>\n",
       "      <td>0</td>\n",
       "      <td>0</td>\n",
       "      <td>1</td>\n",
       "    </tr>\n",
       "    <tr>\n",
       "      <th>1</th>\n",
       "      <td>2</td>\n",
       "      <td>0</td>\n",
       "      <td>11</td>\n",
       "      <td>995</td>\n",
       "      <td>0</td>\n",
       "      <td>0</td>\n",
       "      <td>1</td>\n",
       "    </tr>\n",
       "    <tr>\n",
       "      <th>2</th>\n",
       "      <td>3</td>\n",
       "      <td>0</td>\n",
       "      <td>3</td>\n",
       "      <td>984</td>\n",
       "      <td>0</td>\n",
       "      <td>0</td>\n",
       "      <td>1</td>\n",
       "    </tr>\n",
       "    <tr>\n",
       "      <th>3</th>\n",
       "      <td>4</td>\n",
       "      <td>0</td>\n",
       "      <td>8</td>\n",
       "      <td>981</td>\n",
       "      <td>0</td>\n",
       "      <td>0</td>\n",
       "      <td>1</td>\n",
       "    </tr>\n",
       "    <tr>\n",
       "      <th>4</th>\n",
       "      <td>5</td>\n",
       "      <td>0</td>\n",
       "      <td>10</td>\n",
       "      <td>973</td>\n",
       "      <td>0</td>\n",
       "      <td>0</td>\n",
       "      <td>1</td>\n",
       "    </tr>\n",
       "    <tr>\n",
       "      <th>...</th>\n",
       "      <td>...</td>\n",
       "      <td>...</td>\n",
       "      <td>...</td>\n",
       "      <td>...</td>\n",
       "      <td>...</td>\n",
       "      <td>...</td>\n",
       "      <td>...</td>\n",
       "    </tr>\n",
       "    <tr>\n",
       "      <th>85</th>\n",
       "      <td>88</td>\n",
       "      <td>42</td>\n",
       "      <td>4</td>\n",
       "      <td>112</td>\n",
       "      <td>0.375</td>\n",
       "      <td>1.41089</td>\n",
       "      <td>0.204093</td>\n",
       "    </tr>\n",
       "    <tr>\n",
       "      <th>86</th>\n",
       "      <td>89</td>\n",
       "      <td>1</td>\n",
       "      <td>0</td>\n",
       "      <td>66</td>\n",
       "      <td>0.0151515</td>\n",
       "      <td>1.42605</td>\n",
       "      <td>0.201001</td>\n",
       "    </tr>\n",
       "    <tr>\n",
       "      <th>87</th>\n",
       "      <td>90</td>\n",
       "      <td>0</td>\n",
       "      <td>1</td>\n",
       "      <td>65</td>\n",
       "      <td>0</td>\n",
       "      <td>1.42605</td>\n",
       "      <td>0.201001</td>\n",
       "    </tr>\n",
       "    <tr>\n",
       "      <th>88</th>\n",
       "      <td>92</td>\n",
       "      <td>32</td>\n",
       "      <td>0</td>\n",
       "      <td>64</td>\n",
       "      <td>0.5</td>\n",
       "      <td>1.92605</td>\n",
       "      <td>0.1005</td>\n",
       "    </tr>\n",
       "    <tr>\n",
       "      <th>89</th>\n",
       "      <td>93</td>\n",
       "      <td>32</td>\n",
       "      <td>0</td>\n",
       "      <td>32</td>\n",
       "      <td>1</td>\n",
       "      <td>2.92605</td>\n",
       "      <td>0</td>\n",
       "    </tr>\n",
       "  </tbody>\n",
       "</table>\n",
       "<p>90 rows × 7 columns</p>\n",
       "</div>"
      ],
      "text/plain": [
       "    lifetime broken censored n_sample         HF      cHF  survival\n",
       "0          1      0        5     1000          0        0         1\n",
       "1          2      0       11      995          0        0         1\n",
       "2          3      0        3      984          0        0         1\n",
       "3          4      0        8      981          0        0         1\n",
       "4          5      0       10      973          0        0         1\n",
       "..       ...    ...      ...      ...        ...      ...       ...\n",
       "85        88     42        4      112      0.375  1.41089  0.204093\n",
       "86        89      1        0       66  0.0151515  1.42605  0.201001\n",
       "87        90      0        1       65          0  1.42605  0.201001\n",
       "88        92     32        0       64        0.5  1.92605    0.1005\n",
       "89        93     32        0       32          1  2.92605         0\n",
       "\n",
       "[90 rows x 7 columns]"
      ]
     },
     "execution_count": 4,
     "metadata": {},
     "output_type": "execute_result"
    }
   ],
   "source": [
    "km_estimator = pd.DataFrame(columns = ['lifetime', 'broken', 'censored', 'n_sample', 'HF', 'cHF', 'survival'])\n",
    "km_estimator.lifetime = df.lifetime.unique()\n",
    "\n",
    "n = len(df)\n",
    "cHF = 0\n",
    "survival = 1\n",
    "ind = 0\n",
    "for t in km_estimator.lifetime:\n",
    "    df_filter = df.loc[df.lifetime == t]\n",
    "    km_estimator.loc[ind, 'broken'] = df_filter['broken'].sum()\n",
    "    km_estimator.loc[ind, 'censored'] = df_filter['censored'].sum()\n",
    "    \n",
    "    \n",
    "    km_estimator.n_sample[ind] = n\n",
    "    n -= (df_filter['broken'].sum() + df_filter['censored'].sum())\n",
    "    \n",
    "    km_estimator.HF[ind] = km_estimator.broken[ind]/km_estimator.n_sample[ind]\n",
    "    \n",
    "    cHF += km_estimator.HF[ind]\n",
    "    km_estimator.cHF[ind] = cHF\n",
    "    \n",
    "    survival *= (1-km_estimator.HF[ind])\n",
    "    km_estimator.survival[ind] = survival\n",
    "    \n",
    "    ind += 1\n",
    "    \n",
    "    \n",
    "km_estimator"
   ]
  },
  {
   "cell_type": "code",
   "execution_count": 5,
   "id": "b9ec3145",
   "metadata": {},
   "outputs": [
    {
     "data": {
      "text/plain": [
       "[<matplotlib.lines.Line2D at 0x17e311a6580>]"
      ]
     },
     "execution_count": 5,
     "metadata": {},
     "output_type": "execute_result"
    },
    {
     "data": {
      "image/png": "[encoded data removed]",
      "text/plain": [
       "<Figure size 432x288 with 1 Axes>"
      ]
     },
     "metadata": {
      "needs_background": "light"
     },
     "output_type": "display_data"
    }
   ],
   "source": [
    "plt.plot(km_estimator.lifetime, km_estimator.survival, drawstyle = 'steps-post')"
   ]
  },
  {
   "cell_type": "code",
   "execution_count": 6,
   "id": "eeaf4d86",
   "metadata": {},
   "outputs": [
    {
     "data": {
      "text/plain": [
       "<lifelines.KaplanMeierFitter: fitted with 1000 observations, 603 censored>"
      ]
     },
     "execution_count": 6,
     "metadata": {},
     "output_type": "execute_result"
    }
   ],
   "source": [
    "from lifelines import KaplanMeierFitter\n",
    "km_fitter = KaplanMeierFitter()\n",
    "km_fitter.fit(df.lifetime, df.broken)"
   ]
  },
  {
   "cell_type": "code",
   "execution_count": 7,
   "id": "1a2994bb",
   "metadata": {},
   "outputs": [
    {
     "data": {
      "text/plain": [
       "<AxesSubplot:xlabel='timeline'>"
      ]
     },
     "execution_count": 7,
     "metadata": {},
     "output_type": "execute_result"
    },
    {
     "data": {
      "image/png": "[encoded data removed]",
      "text/plain": [
       "<Figure size 432x288 with 1 Axes>"
      ]
     },
     "metadata": {
      "needs_background": "light"
     },
     "output_type": "display_data"
    }
   ],
   "source": [
    "km_fitter.plot(ci_show=True)"
   ]
  },
  {
   "cell_type": "code",
   "execution_count": 8,
   "id": "ae549a21",
   "metadata": {},
   "outputs": [],
   "source": [
    "from lifelines import CoxPHFitter"
   ]
  },
  {
   "cell_type": "code",
   "execution_count": 9,
   "id": "49896592",
   "metadata": {},
   "outputs": [
    {
     "data": {
      "text/html": [
       "<div>\n",
       "<style scoped>\n",
       "    .dataframe tbody tr th:only-of-type {\n",
       "        vertical-align: middle;\n",
       "    }\n",
       "\n",
       "    .dataframe tbody tr th {\n",
       "        vertical-align: top;\n",
       "    }\n",
       "\n",
       "    .dataframe thead th {\n",
       "        text-align: right;\n",
       "    }\n",
       "</style>\n",
       "<table border=\"1\" class=\"dataframe\">\n",
       "  <thead>\n",
       "    <tr style=\"text-align: right;\">\n",
       "      <th></th>\n",
       "      <th>lifetime</th>\n",
       "      <th>broken</th>\n",
       "      <th>temperatureInd</th>\n",
       "      <th>team_TeamC</th>\n",
       "      <th>provider_Provider2</th>\n",
       "      <th>provider_Provider3</th>\n",
       "      <th>provider_Provider4</th>\n",
       "    </tr>\n",
       "  </thead>\n",
       "  <tbody>\n",
       "    <tr>\n",
       "      <th>0</th>\n",
       "      <td>56</td>\n",
       "      <td>0</td>\n",
       "      <td>96.517159</td>\n",
       "      <td>0</td>\n",
       "      <td>0</td>\n",
       "      <td>0</td>\n",
       "      <td>1</td>\n",
       "    </tr>\n",
       "    <tr>\n",
       "      <th>1</th>\n",
       "      <td>81</td>\n",
       "      <td>1</td>\n",
       "      <td>87.271062</td>\n",
       "      <td>1</td>\n",
       "      <td>0</td>\n",
       "      <td>0</td>\n",
       "      <td>1</td>\n",
       "    </tr>\n",
       "    <tr>\n",
       "      <th>2</th>\n",
       "      <td>60</td>\n",
       "      <td>0</td>\n",
       "      <td>112.196170</td>\n",
       "      <td>0</td>\n",
       "      <td>0</td>\n",
       "      <td>0</td>\n",
       "      <td>0</td>\n",
       "    </tr>\n",
       "    <tr>\n",
       "      <th>3</th>\n",
       "      <td>86</td>\n",
       "      <td>1</td>\n",
       "      <td>72.025374</td>\n",
       "      <td>1</td>\n",
       "      <td>1</td>\n",
       "      <td>0</td>\n",
       "      <td>0</td>\n",
       "    </tr>\n",
       "    <tr>\n",
       "      <th>4</th>\n",
       "      <td>34</td>\n",
       "      <td>0</td>\n",
       "      <td>103.756271</td>\n",
       "      <td>0</td>\n",
       "      <td>0</td>\n",
       "      <td>0</td>\n",
       "      <td>0</td>\n",
       "    </tr>\n",
       "    <tr>\n",
       "      <th>...</th>\n",
       "      <td>...</td>\n",
       "      <td>...</td>\n",
       "      <td>...</td>\n",
       "      <td>...</td>\n",
       "      <td>...</td>\n",
       "      <td>...</td>\n",
       "      <td>...</td>\n",
       "    </tr>\n",
       "    <tr>\n",
       "      <th>995</th>\n",
       "      <td>88</td>\n",
       "      <td>1</td>\n",
       "      <td>99.861456</td>\n",
       "      <td>0</td>\n",
       "      <td>0</td>\n",
       "      <td>0</td>\n",
       "      <td>1</td>\n",
       "    </tr>\n",
       "    <tr>\n",
       "      <th>996</th>\n",
       "      <td>88</td>\n",
       "      <td>1</td>\n",
       "      <td>95.075631</td>\n",
       "      <td>0</td>\n",
       "      <td>0</td>\n",
       "      <td>0</td>\n",
       "      <td>1</td>\n",
       "    </tr>\n",
       "    <tr>\n",
       "      <th>997</th>\n",
       "      <td>22</td>\n",
       "      <td>0</td>\n",
       "      <td>83.221220</td>\n",
       "      <td>0</td>\n",
       "      <td>0</td>\n",
       "      <td>0</td>\n",
       "      <td>0</td>\n",
       "    </tr>\n",
       "    <tr>\n",
       "      <th>998</th>\n",
       "      <td>78</td>\n",
       "      <td>0</td>\n",
       "      <td>83.421491</td>\n",
       "      <td>0</td>\n",
       "      <td>0</td>\n",
       "      <td>0</td>\n",
       "      <td>1</td>\n",
       "    </tr>\n",
       "    <tr>\n",
       "      <th>999</th>\n",
       "      <td>63</td>\n",
       "      <td>0</td>\n",
       "      <td>47.641493</td>\n",
       "      <td>0</td>\n",
       "      <td>0</td>\n",
       "      <td>0</td>\n",
       "      <td>0</td>\n",
       "    </tr>\n",
       "  </tbody>\n",
       "</table>\n",
       "<p>1000 rows × 7 columns</p>\n",
       "</div>"
      ],
      "text/plain": [
       "     lifetime  broken  temperatureInd  team_TeamC  provider_Provider2  \\\n",
       "0          56       0       96.517159           0                   0   \n",
       "1          81       1       87.271062           1                   0   \n",
       "2          60       0      112.196170           0                   0   \n",
       "3          86       1       72.025374           1                   1   \n",
       "4          34       0      103.756271           0                   0   \n",
       "..        ...     ...             ...         ...                 ...   \n",
       "995        88       1       99.861456           0                   0   \n",
       "996        88       1       95.075631           0                   0   \n",
       "997        22       0       83.221220           0                   0   \n",
       "998        78       0       83.421491           0                   0   \n",
       "999        63       0       47.641493           0                   0   \n",
       "\n",
       "     provider_Provider3  provider_Provider4  \n",
       "0                     0                   1  \n",
       "1                     0                   1  \n",
       "2                     0                   0  \n",
       "3                     0                   0  \n",
       "4                     0                   0  \n",
       "..                  ...                 ...  \n",
       "995                   0                   1  \n",
       "996                   0                   1  \n",
       "997                   0                   0  \n",
       "998                   0                   1  \n",
       "999                   0                   0  \n",
       "\n",
       "[1000 rows x 7 columns]"
      ]
     },
     "execution_count": 9,
     "metadata": {},
     "output_type": "execute_result"
    }
   ],
   "source": [
    "df = pd.read_csv(\"survival_data.csv\")\n",
    "df = pd.get_dummies(df, drop_first = True)\n",
    "\n",
    "df = df.drop(['pressureInd', 'moistureInd', 'team_TeamB'], axis = 'columns')\n",
    "df"
   ]
  },
  {
   "cell_type": "code",
   "execution_count": 10,
   "id": "93b76d41",
   "metadata": {},
   "outputs": [],
   "source": [
    "from sklearn.model_selection import train_test_split\n",
    "train, test = train_test_split(df, test_size=0.3)"
   ]
  },
  {
   "cell_type": "code",
   "execution_count": 11,
   "id": "93af21fd",
   "metadata": {},
   "outputs": [
    {
     "data": {
      "text/plain": [
       "<lifelines.CoxPHFitter: fitted with 700 observations, 411 censored>"
      ]
     },
     "execution_count": 11,
     "metadata": {},
     "output_type": "execute_result"
    }
   ],
   "source": [
    "cph = CoxPHFitter()\n",
    "cph.fit(train, duration_col='lifetime', event_col='broken', step_size = .01)"
   ]
  },
  {
   "cell_type": "code",
   "execution_count": 12,
   "id": "c02d7fe1",
   "metadata": {},
   "outputs": [
    {
     "name": "stdout",
     "output_type": "stream",
     "text": [
      "<lifelines.CoxPHFitter: fitted with 700 observations, 411 censored>\n",
      "      duration col = 'lifetime'\n",
      "         event col = 'broken'\n",
      "number of subjects = 700\n",
      "  number of events = 289\n",
      "    log-likelihood = -908.00\n",
      "  time fit was run = 2022-02-10 11:32:41 UTC\n",
      "\n",
      "---\n",
      "                    coef  exp(coef)  se(coef)      z      p  -log2(p)  lower 0.95  upper 0.95\n",
      "temperatureInd      0.01       1.01      0.00   4.25 <0.005     15.52        0.01        0.02\n",
      "team_TeamC          2.91      18.30      0.23  12.67 <0.005    119.75        2.46        3.36\n",
      "provider_Provider2 -6.02       0.00      0.42 -14.47 <0.005    155.19       -6.83       -5.20\n",
      "provider_Provider3  5.05     156.67      0.41  12.44 <0.005    115.66        4.26        5.85\n",
      "provider_Provider4 -4.41       0.01      0.35 -12.71 <0.005    120.61       -5.09       -3.73\n",
      "---\n",
      "Concordance = 1.00\n",
      "Log-likelihood ratio test = 967.72 on 5 df, -log2(p)=685.09\n"
     ]
    }
   ],
   "source": [
    "cph.print_summary()"
   ]
  },
  {
   "cell_type": "code",
   "execution_count": 13,
   "id": "2ab6c3c9",
   "metadata": {},
   "outputs": [
    {
     "data": {
      "text/plain": [
       "<AxesSubplot:xlabel='log(HR) (95% CI)'>"
      ]
     },
     "execution_count": 13,
     "metadata": {},
     "output_type": "execute_result"
    },
    {
     "data": {
      "image/png": "[encoded data removed]",
      "text/plain": [
       "<Figure size 432x288 with 1 Axes>"
      ]
     },
     "metadata": {
      "needs_background": "light"
     },
     "output_type": "display_data"
    }
   ],
   "source": [
    "cph.plot()"
   ]
  },
  {
   "cell_type": "code",
   "execution_count": 14,
   "id": "934ba790",
   "metadata": {},
   "outputs": [
    {
     "data": {
      "text/html": [
       "<div>\n",
       "<style scoped>\n",
       "    .dataframe tbody tr th:only-of-type {\n",
       "        vertical-align: middle;\n",
       "    }\n",
       "\n",
       "    .dataframe tbody tr th {\n",
       "        vertical-align: top;\n",
       "    }\n",
       "\n",
       "    .dataframe thead th {\n",
       "        text-align: right;\n",
       "    }\n",
       "</style>\n",
       "<table border=\"1\" class=\"dataframe\">\n",
       "  <thead>\n",
       "    <tr style=\"text-align: right;\">\n",
       "      <th></th>\n",
       "      <th>0</th>\n",
       "    </tr>\n",
       "  </thead>\n",
       "  <tbody>\n",
       "    <tr>\n",
       "      <th>179</th>\n",
       "      <td>67.865300</td>\n",
       "    </tr>\n",
       "    <tr>\n",
       "      <th>310</th>\n",
       "      <td>79.483286</td>\n",
       "    </tr>\n",
       "    <tr>\n",
       "      <th>676</th>\n",
       "      <td>61.211801</td>\n",
       "    </tr>\n",
       "    <tr>\n",
       "      <th>170</th>\n",
       "      <td>91.134252</td>\n",
       "    </tr>\n",
       "    <tr>\n",
       "      <th>478</th>\n",
       "      <td>81.337617</td>\n",
       "    </tr>\n",
       "  </tbody>\n",
       "</table>\n",
       "</div>"
      ],
      "text/plain": [
       "             0\n",
       "179  67.865300\n",
       "310  79.483286\n",
       "676  61.211801\n",
       "170  91.134252\n",
       "478  81.337617"
      ]
     },
     "execution_count": 14,
     "metadata": {},
     "output_type": "execute_result"
    }
   ],
   "source": [
    "test_broken = test[test.broken == 1]\n",
    "ypred = cph.predict_expectation(test_broken)\n",
    "ypred.head()"
   ]
  },
  {
   "cell_type": "code",
   "execution_count": 15,
   "id": "b1eed86b",
   "metadata": {},
   "outputs": [
    {
     "data": {
      "text/plain": [
       "Text(0, 0.5, 'Predictions')"
      ]
     },
     "execution_count": 15,
     "metadata": {},
     "output_type": "execute_result"
    },
    {
     "data": {
      "image/png": "[encoded data removed]",
      "text/plain": [
       "<Figure size 432x288 with 1 Axes>"
      ]
     },
     "metadata": {
      "needs_background": "light"
     },
     "output_type": "display_data"
    }
   ],
   "source": [
    "plt.scatter(test_broken.lifetime, ypred)\n",
    "plt.plot([60, 95], [60, 95], 'r--')\n",
    "plt.xlabel('Labels (lifetime)')\n",
    "plt.ylabel('Predictions')"
   ]
  },
  {
   "cell_type": "code",
   "execution_count": 16,
   "id": "ff9b51f9",
   "metadata": {},
   "outputs": [
    {
     "data": {
      "text/plain": [
       "<AxesSubplot:>"
      ]
     },
     "execution_count": 16,
     "metadata": {},
     "output_type": "execute_result"
    },
    {
     "data": {
      "image/png": "[encoded data removed]",
      "text/plain": [
       "<Figure size 432x288 with 1 Axes>"
      ]
     },
     "metadata": {
      "needs_background": "light"
     },
     "output_type": "display_data"
    }
   ],
   "source": [
    "error = test_broken.lifetime - ypred[0]\n",
    "error.hist(rwidth=0.9)"
   ]
  },
  {
   "cell_type": "code",
   "execution_count": null,
   "id": "3ffad564",
   "metadata": {},
   "outputs": [],
   "source": []
  }
 ],
 "metadata": {
  "kernelspec": {
   "display_name": "Python 3 (ipykernel)",
   "language": "python",
   "name": "python3"
  },
  "language_info": {
   "codemirror_mode": {
    "name": "ipython",
    "version": 3
   },
   "file_extension": ".py",
   "mimetype": "text/x-python",
   "name": "python",
   "nbconvert_exporter": "python",
   "pygments_lexer": "ipython3",
   "version": "3.8.12"
  }
 },
 "nbformat": 4,
 "nbformat_minor": 5
}
