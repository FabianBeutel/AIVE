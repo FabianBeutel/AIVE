{
 "cells": [
  {
   "cell_type": "markdown",
   "metadata": {},
   "source": [
    "# Predictive bearing failure"
   ]
  },
  {
   "cell_type": "markdown",
   "metadata": {},
   "source": [
    "## Achtergrond informatie"
   ]
  },
  {
   "cell_type": "markdown",
   "metadata": {},
   "source": [
    "### Test opstelling\n",
    "4 lagers zijn geinstalleerd aan een drijfas. De rotatiesnelheid is constant gehouden op 2000 RPM door een AC motor aangedreven door een drijfriem. Een lading van 2721.55 kg (6000 lbs) is toegevoegd en de lagers zijn continu ingesmeerd. Op de lagers zijn accelerometers geïnstalleerd zoals te zien in Figuur 1a. Een schematische afbeelding is te zien in Figuur 1b.\n",
    "\n",
    "<table>\n",
    "    <tr>\n",
    "    <th> <img src=\"img/setup.png\" style=\"width: 320px;\"/>\n",
    "    <th> <img src=\"img/setup_drawing.png\" style=\"width: 320px;\"/>\n",
    "    </tr>\n",
    "</table>  \n",
    "Figuur 1. Opstelling van de lagers met de belasting en accelerometers (a) en Schematische weergave van de opstelling (b)\n",
    "\n",
    "<table>\n",
    "    <tr>\n",
    "    <th> <img src=\"img/rol_element_fail.png\" style=\"width: 240px;\"/> \n",
    "    <th><img src=\"img/buitenring_failure.png\" style=\"width: 240px;\"/>\n",
    "    </tr>\n",
    "</table>\n",
    "Figuur 2. Failures van rollagers. Links een failure van het rol element en rechts een failure van de buitenring\n",
    "\n",
    "### Data structuur\n",
    "Alleen de data van de laatste lager is beschikbaar. De data is een test-to-failure experiment en elk bestand bestaat uit een 1 seconde snapshot van het signaal. Die seconde is verdeeld in 20,480 datapunten (sample rate van 20 kHz). Alle bestanden staan in volgorde van vroeg naar laat. Dit betekent dat de gezondheid van alle lagers hetzelfde of slechter is dan de vorige. Dit mag je niet gebruiken als feature. Tussen bijna alle snapshots zit 10 minuten. \n",
    "\n",
    "De classes zijn:\n",
    "- 0: Vroeg stadium\n",
    "- 1: Normaal\n",
    "- 2: Verdacht\n",
    "- 3: Rol element failure\n",
    "- 4: Failure"
   ]
  },
  {
   "cell_type": "markdown",
   "metadata": {},
   "source": [
    "## Inlezen van data"
   ]
  },
  {
   "cell_type": "code",
   "execution_count": 1,
   "metadata": {},
   "outputs": [],
   "source": [
    "from dataset.bearing_dataset import bearing_dataset\n",
    "import os"
   ]
  },
  {
   "cell_type": "code",
   "execution_count": 2,
   "metadata": {},
   "outputs": [
    {
     "name": "stdout",
     "output_type": "stream",
     "text": [
      "Deze dataset bevat 1724 observaties\n",
      "Elke observatie is 1 seconde met 20480 samples\n"
     ]
    }
   ],
   "source": [
    "ds = bearing_dataset(os.path.join(\"dataset\", \"data\"), \"bearing_conditions.csv\")\n",
    "N = len(ds)\n",
    "print(\"Deze dataset bevat {} observaties\".format(N))\n",
    "n_samples = len(ds[0]) # gebruik index om het bestand te krijgen\n",
    "print(\"Elke observatie is 1 seconde met {} samples\".format(n_samples))"
   ]
  },
  {
   "cell_type": "code",
   "execution_count": 3,
   "metadata": {},
   "outputs": [
    {
     "name": "stdout",
     "output_type": "stream",
     "text": [
      "Class bearing_dataset with files from 'dataset\\data' and size (1724,). It holds the following files: ['0.txt', '1.txt', '10.txt'] ... ['997.txt', '998.txt', '999.txt'].\n",
      "Get full list of files with ds.files\n"
     ]
    }
   ],
   "source": [
    "print(ds)"
   ]
  },
  {
   "cell_type": "code",
   "execution_count": 4,
   "metadata": {},
   "outputs": [
    {
     "data": {
      "text/html": [
       "<div>\n",
       "<style scoped>\n",
       "    .dataframe tbody tr th:only-of-type {\n",
       "        vertical-align: middle;\n",
       "    }\n",
       "\n",
       "    .dataframe tbody tr th {\n",
       "        vertical-align: top;\n",
       "    }\n",
       "\n",
       "    .dataframe thead th {\n",
       "        text-align: right;\n",
       "    }\n",
       "</style>\n",
       "<table border=\"1\" class=\"dataframe\">\n",
       "  <thead>\n",
       "    <tr style=\"text-align: right;\">\n",
       "      <th></th>\n",
       "      <th>b4</th>\n",
       "    </tr>\n",
       "  </thead>\n",
       "  <tbody>\n",
       "    <tr>\n",
       "      <th>366</th>\n",
       "      <td>1</td>\n",
       "    </tr>\n",
       "    <tr>\n",
       "      <th>1109</th>\n",
       "      <td>2</td>\n",
       "    </tr>\n",
       "    <tr>\n",
       "      <th>1636</th>\n",
       "      <td>4</td>\n",
       "    </tr>\n",
       "    <tr>\n",
       "      <th>1129</th>\n",
       "      <td>2</td>\n",
       "    </tr>\n",
       "    <tr>\n",
       "      <th>1571</th>\n",
       "      <td>4</td>\n",
       "    </tr>\n",
       "    <tr>\n",
       "      <th>1572</th>\n",
       "      <td>4</td>\n",
       "    </tr>\n",
       "    <tr>\n",
       "      <th>1615</th>\n",
       "      <td>4</td>\n",
       "    </tr>\n",
       "    <tr>\n",
       "      <th>1346</th>\n",
       "      <td>3</td>\n",
       "    </tr>\n",
       "    <tr>\n",
       "      <th>833</th>\n",
       "      <td>2</td>\n",
       "    </tr>\n",
       "    <tr>\n",
       "      <th>1415</th>\n",
       "      <td>3</td>\n",
       "    </tr>\n",
       "  </tbody>\n",
       "</table>\n",
       "</div>"
      ],
      "text/plain": [
       "      b4\n",
       "366    1\n",
       "1109   2\n",
       "1636   4\n",
       "1129   2\n",
       "1571   4\n",
       "1572   4\n",
       "1615   4\n",
       "1346   3\n",
       "833    2\n",
       "1415   3"
      ]
     },
     "execution_count": 4,
     "metadata": {},
     "output_type": "execute_result"
    }
   ],
   "source": [
    "ds.labels.sample(n = 10)"
   ]
  },
  {
   "cell_type": "markdown",
   "metadata": {},
   "source": [
    "### Train test split"
   ]
  },
  {
   "cell_type": "code",
   "execution_count": 5,
   "metadata": {},
   "outputs": [
    {
     "name": "stdout",
     "output_type": "stream",
     "text": [
      "Trainsize = 1206\n",
      "Testsize = 518\n"
     ]
    }
   ],
   "source": [
    "ds_train, ds_test = ds.train_test_split(test_size=0.3)\n",
    "print(\"Trainsize = {}\\nTestsize = {}\".format(len(ds_train), len(ds_test)))"
   ]
  },
  {
   "cell_type": "code",
   "execution_count": 6,
   "metadata": {},
   "outputs": [
    {
     "name": "stdout",
     "output_type": "stream",
     "text": [
      "Class bearing_dataset with files from 'dataset\\data' and size (1206,). It holds the following files: ['1404.txt', '1172.txt', '304.txt'] ... ['1180.txt', '131.txt', '1093.txt'].\n",
      "Get full list of files with ds.files \n",
      "\n",
      "Class bearing_dataset with files from 'dataset\\data' and size (518,). It holds the following files: ['940.txt', '517.txt', '866.txt'] ... ['1695.txt', '823.txt', '1571.txt'].\n",
      "Get full list of files with ds.files\n"
     ]
    }
   ],
   "source": [
    "print(ds_train, \"\\n\")\n",
    "print(ds_test)"
   ]
  },
  {
   "cell_type": "markdown",
   "metadata": {},
   "source": [
    "### Get signal"
   ]
  },
  {
   "cell_type": "code",
   "execution_count": 7,
   "metadata": {},
   "outputs": [
    {
     "data": {
      "image/png": "[encoded data removed]",
      "text/plain": [
       "<Figure size 864x288 with 1 Axes>"
      ]
     },
     "metadata": {
      "needs_background": "light"
     },
     "output_type": "display_data"
    }
   ],
   "source": [
    "import matplotlib.pyplot as plt\n",
    "import numpy as np\n",
    "\n",
    "fig = plt.figure(figsize = (12, 4))\n",
    "\n",
    "signal = ds_train[0]\n",
    "t = np.linspace(0, 1, len(signal))\n",
    "plt.plot(t, signal)\n",
    "plt.xlabel(\"Time (s)\")\n",
    "plt.ylabel(\"Acceleration (m/s^2)\")\n",
    "plt.title(\"Acceleration signal from bearing 4\")\n",
    "plt.show()"
   ]
  },
  {
   "cell_type": "code",
   "execution_count": 8,
   "metadata": {},
   "outputs": [
    {
     "data": {
      "text/plain": [
       "0       -0.129\n",
       "1       -0.115\n",
       "2       -0.171\n",
       "3       -0.112\n",
       "4       -0.063\n",
       "         ...  \n",
       "20475   -0.134\n",
       "20476   -0.227\n",
       "20477   -0.151\n",
       "20478   -0.151\n",
       "20479   -0.095\n",
       "Name: b4, Length: 20480, dtype: float64"
      ]
     },
     "execution_count": 8,
     "metadata": {},
     "output_type": "execute_result"
    }
   ],
   "source": [
    "signal"
   ]
  }
 ],
 "metadata": {
  "kernelspec": {
   "display_name": "Python 3 (ipykernel)",
   "language": "python",
   "name": "python3"
  },
  "language_info": {
   "codemirror_mode": {
    "name": "ipython",
    "version": 3
   },
   "file_extension": ".py",
   "mimetype": "text/x-python",
   "name": "python",
   "nbconvert_exporter": "python",
   "pygments_lexer": "ipython3",
   "version": "3.8.12"
  }
 },
 "nbformat": 4,
 "nbformat_minor": 4
}
