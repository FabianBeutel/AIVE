{
 "cells": [
  {
   "cell_type": "markdown",
   "metadata": {},
   "source": [
    "# Packages inladen"
   ]
  },
  {
   "cell_type": "code",
   "execution_count": 3,
   "metadata": {},
   "outputs": [],
   "source": [
    "import pandas as pd # Voor het verwerken van alle data\n",
    "import numpy as np # Voor alle numerieke operaties\n",
    "import sklearn # De library met Machine Learning technieken\n",
    "import matplotlib.pyplot as plt # Visualisatie tool"
   ]
  },
  {
   "cell_type": "markdown",
   "metadata": {},
   "source": [
    "# Data exploration"
   ]
  },
  {
   "cell_type": "code",
   "execution_count": 4,
   "metadata": {},
   "outputs": [
    {
     "data": {
      "text/html": [
       "<div>\n",
       "<style scoped>\n",
       "    .dataframe tbody tr th:only-of-type {\n",
       "        vertical-align: middle;\n",
       "    }\n",
       "\n",
       "    .dataframe tbody tr th {\n",
       "        vertical-align: top;\n",
       "    }\n",
       "\n",
       "    .dataframe thead th {\n",
       "        text-align: right;\n",
       "    }\n",
       "</style>\n",
       "<table border=\"1\" class=\"dataframe\">\n",
       "  <thead>\n",
       "    <tr style=\"text-align: right;\">\n",
       "      <th></th>\n",
       "      <th>layer_height</th>\n",
       "      <th>wall_thickness</th>\n",
       "      <th>infill_density</th>\n",
       "      <th>infill_pattern</th>\n",
       "      <th>nozzle_temperature</th>\n",
       "      <th>bed_temperature</th>\n",
       "      <th>print_speed</th>\n",
       "      <th>material</th>\n",
       "      <th>fan_speed</th>\n",
       "      <th>roughness</th>\n",
       "      <th>tension_strenght</th>\n",
       "      <th>elongation</th>\n",
       "    </tr>\n",
       "  </thead>\n",
       "  <tbody>\n",
       "    <tr>\n",
       "      <th>0</th>\n",
       "      <td>0.02</td>\n",
       "      <td>8</td>\n",
       "      <td>90</td>\n",
       "      <td>grid</td>\n",
       "      <td>220</td>\n",
       "      <td>60</td>\n",
       "      <td>40</td>\n",
       "      <td>abs</td>\n",
       "      <td>0</td>\n",
       "      <td>25</td>\n",
       "      <td>18</td>\n",
       "      <td>1.2</td>\n",
       "    </tr>\n",
       "    <tr>\n",
       "      <th>1</th>\n",
       "      <td>0.02</td>\n",
       "      <td>7</td>\n",
       "      <td>90</td>\n",
       "      <td>honeycomb</td>\n",
       "      <td>225</td>\n",
       "      <td>65</td>\n",
       "      <td>40</td>\n",
       "      <td>abs</td>\n",
       "      <td>25</td>\n",
       "      <td>32</td>\n",
       "      <td>16</td>\n",
       "      <td>1.4</td>\n",
       "    </tr>\n",
       "    <tr>\n",
       "      <th>2</th>\n",
       "      <td>0.02</td>\n",
       "      <td>1</td>\n",
       "      <td>80</td>\n",
       "      <td>grid</td>\n",
       "      <td>230</td>\n",
       "      <td>70</td>\n",
       "      <td>40</td>\n",
       "      <td>abs</td>\n",
       "      <td>50</td>\n",
       "      <td>40</td>\n",
       "      <td>8</td>\n",
       "      <td>0.8</td>\n",
       "    </tr>\n",
       "    <tr>\n",
       "      <th>3</th>\n",
       "      <td>0.02</td>\n",
       "      <td>4</td>\n",
       "      <td>70</td>\n",
       "      <td>honeycomb</td>\n",
       "      <td>240</td>\n",
       "      <td>75</td>\n",
       "      <td>40</td>\n",
       "      <td>abs</td>\n",
       "      <td>75</td>\n",
       "      <td>68</td>\n",
       "      <td>10</td>\n",
       "      <td>0.5</td>\n",
       "    </tr>\n",
       "    <tr>\n",
       "      <th>4</th>\n",
       "      <td>0.02</td>\n",
       "      <td>6</td>\n",
       "      <td>90</td>\n",
       "      <td>grid</td>\n",
       "      <td>250</td>\n",
       "      <td>80</td>\n",
       "      <td>40</td>\n",
       "      <td>abs</td>\n",
       "      <td>100</td>\n",
       "      <td>92</td>\n",
       "      <td>5</td>\n",
       "      <td>0.7</td>\n",
       "    </tr>\n",
       "  </tbody>\n",
       "</table>\n",
       "</div>"
      ],
      "text/plain": [
       "   layer_height  wall_thickness  infill_density infill_pattern  \\\n",
       "0          0.02               8              90           grid   \n",
       "1          0.02               7              90      honeycomb   \n",
       "2          0.02               1              80           grid   \n",
       "3          0.02               4              70      honeycomb   \n",
       "4          0.02               6              90           grid   \n",
       "\n",
       "   nozzle_temperature  bed_temperature  print_speed material  fan_speed  \\\n",
       "0                 220               60           40      abs          0   \n",
       "1                 225               65           40      abs         25   \n",
       "2                 230               70           40      abs         50   \n",
       "3                 240               75           40      abs         75   \n",
       "4                 250               80           40      abs        100   \n",
       "\n",
       "   roughness  tension_strenght  elongation  \n",
       "0         25                18         1.2  \n",
       "1         32                16         1.4  \n",
       "2         40                 8         0.8  \n",
       "3         68                10         0.5  \n",
       "4         92                 5         0.7  "
      ]
     },
     "execution_count": 4,
     "metadata": {},
     "output_type": "execute_result"
    }
   ],
   "source": [
    "# Het inladen van tabellen. Dit wordt gezet in een \"DataFrame\"\n",
    "df = pd.read_csv(\"../3dprinter/data.csv\", sep = ';')\n",
    "df.head()"
   ]
  },
  {
   "cell_type": "markdown",
   "metadata": {},
   "source": [
    "We gaan met regressie proberen om de `tension_strenght` te voorspellen aan de hand van de gegeven data."
   ]
  },
  {
   "cell_type": "code",
   "execution_count": 8,
   "metadata": {},
   "outputs": [
    {
     "data": {
      "text/html": [
       "<div>\n",
       "<style scoped>\n",
       "    .dataframe tbody tr th:only-of-type {\n",
       "        vertical-align: middle;\n",
       "    }\n",
       "\n",
       "    .dataframe tbody tr th {\n",
       "        vertical-align: top;\n",
       "    }\n",
       "\n",
       "    .dataframe thead th {\n",
       "        text-align: right;\n",
       "    }\n",
       "</style>\n",
       "<table border=\"1\" class=\"dataframe\">\n",
       "  <thead>\n",
       "    <tr style=\"text-align: right;\">\n",
       "      <th></th>\n",
       "      <th>layer_height</th>\n",
       "      <th>wall_thickness</th>\n",
       "      <th>infill_density</th>\n",
       "      <th>infill_pattern</th>\n",
       "      <th>nozzle_temperature</th>\n",
       "      <th>bed_temperature</th>\n",
       "      <th>print_speed</th>\n",
       "      <th>material</th>\n",
       "      <th>fan_speed</th>\n",
       "      <th>roughness</th>\n",
       "      <th>elongation</th>\n",
       "    </tr>\n",
       "  </thead>\n",
       "  <tbody>\n",
       "    <tr>\n",
       "      <th>0</th>\n",
       "      <td>0.02</td>\n",
       "      <td>8</td>\n",
       "      <td>90</td>\n",
       "      <td>0</td>\n",
       "      <td>220</td>\n",
       "      <td>60</td>\n",
       "      <td>40</td>\n",
       "      <td>0</td>\n",
       "      <td>0</td>\n",
       "      <td>25</td>\n",
       "      <td>1.2</td>\n",
       "    </tr>\n",
       "    <tr>\n",
       "      <th>1</th>\n",
       "      <td>0.02</td>\n",
       "      <td>7</td>\n",
       "      <td>90</td>\n",
       "      <td>0</td>\n",
       "      <td>225</td>\n",
       "      <td>65</td>\n",
       "      <td>40</td>\n",
       "      <td>0</td>\n",
       "      <td>25</td>\n",
       "      <td>32</td>\n",
       "      <td>1.4</td>\n",
       "    </tr>\n",
       "    <tr>\n",
       "      <th>2</th>\n",
       "      <td>0.02</td>\n",
       "      <td>1</td>\n",
       "      <td>80</td>\n",
       "      <td>0</td>\n",
       "      <td>230</td>\n",
       "      <td>70</td>\n",
       "      <td>40</td>\n",
       "      <td>0</td>\n",
       "      <td>50</td>\n",
       "      <td>40</td>\n",
       "      <td>0.8</td>\n",
       "    </tr>\n",
       "    <tr>\n",
       "      <th>3</th>\n",
       "      <td>0.02</td>\n",
       "      <td>4</td>\n",
       "      <td>70</td>\n",
       "      <td>0</td>\n",
       "      <td>240</td>\n",
       "      <td>75</td>\n",
       "      <td>40</td>\n",
       "      <td>0</td>\n",
       "      <td>75</td>\n",
       "      <td>68</td>\n",
       "      <td>0.5</td>\n",
       "    </tr>\n",
       "    <tr>\n",
       "      <th>4</th>\n",
       "      <td>0.02</td>\n",
       "      <td>6</td>\n",
       "      <td>90</td>\n",
       "      <td>0</td>\n",
       "      <td>250</td>\n",
       "      <td>80</td>\n",
       "      <td>40</td>\n",
       "      <td>0</td>\n",
       "      <td>100</td>\n",
       "      <td>92</td>\n",
       "      <td>0.7</td>\n",
       "    </tr>\n",
       "  </tbody>\n",
       "</table>\n",
       "</div>"
      ],
      "text/plain": [
       "   layer_height  wall_thickness  infill_density  infill_pattern  \\\n",
       "0          0.02               8              90               0   \n",
       "1          0.02               7              90               0   \n",
       "2          0.02               1              80               0   \n",
       "3          0.02               4              70               0   \n",
       "4          0.02               6              90               0   \n",
       "\n",
       "   nozzle_temperature  bed_temperature  print_speed  material  fan_speed  \\\n",
       "0                 220               60           40         0          0   \n",
       "1                 225               65           40         0         25   \n",
       "2                 230               70           40         0         50   \n",
       "3                 240               75           40         0         75   \n",
       "4                 250               80           40         0        100   \n",
       "\n",
       "   roughness  elongation  \n",
       "0         25         1.2  \n",
       "1         32         1.4  \n",
       "2         40         0.8  \n",
       "3         68         0.5  \n",
       "4         92         0.7  "
      ]
     },
     "execution_count": 8,
     "metadata": {},
     "output_type": "execute_result"
    }
   ],
   "source": [
    "# Onze voorspellers moet het materiaal gaan voorspellen. We willen niet dat we het materiaal als gegeven zien. Dan wordt het wel heel makkelijk!\n",
    "X = df.drop(\"tension_strenght\", axis = 1)\n",
    "\n",
    "# Onze afhankelijke waarde is de kolom \"materiaal\"\n",
    "Y = df.tension_strenght\n",
    "\n",
    "X.head() # Hier zien we dat de infill pattern 1 en 0 zijn geworden. En de kolom material staat er niet meer in"
   ]
  },
  {
   "cell_type": "code",
   "execution_count": 9,
   "metadata": {},
   "outputs": [
    {
     "data": {
      "text/plain": [
       "0    18\n",
       "1    16\n",
       "2     8\n",
       "3    10\n",
       "4     5\n",
       "Name: tension_strenght, dtype: int64"
      ]
     },
     "execution_count": 9,
     "metadata": {},
     "output_type": "execute_result"
    }
   ],
   "source": [
    "# Y is nu een \"Series\" met de tension strenght waardenY.head()"
   ]
  },
  {
   "cell_type": "markdown",
   "metadata": {},
   "source": [
    "# Making a model"
   ]
  },
  {
   "cell_type": "code",
   "execution_count": 12,
   "metadata": {},
   "outputs": [],
   "source": [
    "from sklearn.model_selection import train_test_split\n",
    "x_train, x_test, y_train, y_test = train_test_split(X, Y, test_size = 0.5, random_state = 2)"
   ]
  },
  {
   "cell_type": "markdown",
   "metadata": {},
   "source": [
    "## Linear regression"
   ]
  },
  {
   "cell_type": "code",
   "execution_count": 13,
   "metadata": {},
   "outputs": [],
   "source": [
    "from sklearn.linear_model import LinearRegression\n",
    "linreg = LinearRegression()\n",
    "linreg.fit(x_train, y_train)\n",
    "y_pred = linreg.predict(x_test)"
   ]
  },
  {
   "cell_type": "code",
   "execution_count": 41,
   "metadata": {},
   "outputs": [
    {
     "name": "stdout",
     "output_type": "stream",
     "text": [
      "MSE: 16.269\n",
      "R2:   0.735\n",
      "\n",
      "layer_height         14.020\n",
      "wall_thickness       0.685\n",
      "infill_density       0.101\n",
      "infill_pattern       -0.000\n",
      "nozzle_temperature   -0.000\n",
      "bed_temperature      -0.002\n",
      "print_speed          0.029\n",
      "material             0.000\n",
      "fan_speed            -0.009\n",
      "roughness            -0.012\n",
      "elongation           8.915\n"
     ]
    }
   ],
   "source": [
    "# We gebruiken MSE en R2 als metrics\n",
    "from sklearn.metrics import mean_squared_error\n",
    "from sklearn.metrics import r2_score\n",
    "print(\"MSE: {:.3f}\".format(mean_squared_error(y_test, y_pred)))\n",
    "print(\"R2:   {:.3f}\".format(r2_score(y_test, y_pred)))\n",
    "print()\n",
    "# Print de coefficients van het model\n",
    "for ii, col in enumerate(x_train.columns):\n",
    "    print(\"{:20} {:.3f}\".format(col, linreg.coef_[ii]))"
   ]
  },
  {
   "cell_type": "code",
   "execution_count": 122,
   "metadata": {},
   "outputs": [
    {
     "data": {
      "image/png": "[encoded data removed]",
      "text/plain": [
       "<Figure size 864x360 with 2 Axes>"
      ]
     },
     "metadata": {
      "needs_background": "light"
     },
     "output_type": "display_data"
    }
   ],
   "source": [
    "# Bereken de residuals en visualiseer de Ground Truths en de Predictions\n",
    "res = y_test-y_pred\n",
    "fig, ax = plt.subplots(1, 2, figsize = (12, 5))\n",
    "ax[0].hist(res, rwidth = 0.9)\n",
    "ax[0].set_xlabel(\"residuals\")\n",
    "ax[0].set_ylabel(\"Frequency\")\n",
    "ax[0].set_title(\"Histogram of residuals\")\n",
    "\n",
    "# Maak een scatter plot om de verdeling van de voorspellingen te visualiseren. Alle voorspellingen op de rode lijn zijn een perfect fit.\n",
    "ax[1].scatter(y_test, y_pred)\n",
    "ax[1].set_xlabel(\"Ground Truths\")\n",
    "ax[1].set_ylabel(\"Predictions\")\n",
    "ax[1].set_title(\"Distribution of predictions\")\n",
    "ax[1].plot([y_test.min(), y_test.max()], [y_test.min(), y_test.max()], c = \"r\", label = \"Perfect fit\")\n",
    "plt.legend()\n",
    "plt.show()"
   ]
  },
  {
   "cell_type": "markdown",
   "metadata": {},
   "source": [
    "## Alternative linear models"
   ]
  },
  {
   "cell_type": "code",
   "execution_count": 42,
   "metadata": {},
   "outputs": [
    {
     "name": "stdout",
     "output_type": "stream",
     "text": [
      "MSE Ridge: 14.525\n",
      "R2 Ridge:   0.763\n",
      "MSE Lasso: 17.320\n",
      "R2 Lasso:   0.717\n",
      "MSE SVM: 22.817\n",
      "R2 SVM:   0.628\n"
     ]
    }
   ],
   "source": [
    "from sklearn.linear_model import Ridge, Lasso\n",
    "ridreg = Ridge()\n",
    "ridreg.fit(x_train, y_train)\n",
    "y_predridge = ridreg.predict(x_test)\n",
    "print(\"MSE Ridge: {:.3f}\".format(mean_squared_error(y_test, y_predridge)))\n",
    "print(\"R2 Ridge:   {:.3f}\".format(r2_score(y_test, y_predridge)))\n",
    "\n",
    "\n",
    "lasreg = Lasso()\n",
    "lasreg.fit(x_train, y_train)\n",
    "y_predlasso = lasreg.predict(x_test)\n",
    "print(\"MSE Lasso: {:.3f}\".format(mean_squared_error(y_test, y_predlasso)))\n",
    "print(\"R2 Lasso:   {:.3f}\".format(r2_score(y_test, y_predlasso)))\n",
    "\n",
    "from sklearn.svm import SVR\n",
    "svmreg = SVR(C = 10, kernel = \"linear\")\n",
    "svmreg.fit(x_train, y_train)\n",
    "y_predsvm = svmreg.predict(x_test)\n",
    "print(\"MSE SVM: {:.3f}\".format(mean_squared_error(y_test, y_predsvm)))\n",
    "print(\"R2 SVM:   {:.3f}\".format(r2_score(y_test, y_predsvm)))"
   ]
  },
  {
   "cell_type": "code",
   "execution_count": 124,
   "metadata": {},
   "outputs": [
    {
     "data": {
      "image/png": "[encoded data removed]",
      "text/plain": [
       "<Figure size 864x360 with 2 Axes>"
      ]
     },
     "metadata": {
      "needs_background": "light"
     },
     "output_type": "display_data"
    }
   ],
   "source": [
    "# Bereken de residuals en visualiseer de Ground Truths en de Predictions\n",
    "res = y_test-y_predridge\n",
    "fig, ax = plt.subplots(1, 2, figsize = (12, 5))\n",
    "ax[0].hist(res, rwidth = 0.9)\n",
    "ax[0].set_xlabel(\"residuals\")\n",
    "ax[0].set_ylabel(\"Frequency\")\n",
    "ax[0].set_title(\"Histogram of residuals (Ridge regression)\")\n",
    "\n",
    "# Maak een scatter plot om de verdeling van de voorspellingen te visualiseren. Alle voorspellingen op de rode lijn zijn een perfect fit.\n",
    "ax[1].scatter(y_test, y_predridge)\n",
    "ax[1].set_xlabel(\"Ground Truths\")\n",
    "ax[1].set_ylabel(\"Predictions\")\n",
    "ax[1].set_title(\"Distribution of predictions (Ridge regression)\")\n",
    "ax[1].plot([y_test.min(), y_test.max()], [y_test.min(), y_test.max()], c = \"r\", label = \"Perfect fit\")\n",
    "plt.legend()\n",
    "plt.show()"
   ]
  },
  {
   "cell_type": "markdown",
   "metadata": {},
   "source": [
    "## Non linear models\n"
   ]
  },
  {
   "cell_type": "markdown",
   "metadata": {},
   "source": [
    "### SVM kernel"
   ]
  },
  {
   "cell_type": "code",
   "execution_count": 35,
   "metadata": {},
   "outputs": [
    {
     "name": "stdout",
     "output_type": "stream",
     "text": [
      "MSE SVM rbf: 124.855\n",
      "R2 SVM rbf:   -1.037\n",
      "MSE SVM poly: 76.620\n",
      "R2 SVM poly:   -0.250\n"
     ]
    }
   ],
   "source": [
    "svm_rbf_reg = SVR(kernel = \"rbf\")\n",
    "svm_rbf_reg.fit(x_train, y_train)\n",
    "y_pred_svm_rbf = svm_rbf_reg.predict(x_test)\n",
    "print(\"MSE SVM rbf: {:.3f}\".format(mean_squared_error(y_test, y_pred_svm_rbf)))\n",
    "print(\"R2 SVM rbf:   {:.3f}\".format(r2_score(y_test, y_pred_svm_rbf)))\n",
    "\n",
    "svm_poly_reg = SVR(kernel = \"poly\")\n",
    "svm_poly_reg.fit(x_train, y_train)\n",
    "y_pred_svm_poly = svm_poly_reg.predict(x_test)\n",
    "print(\"MSE SVM poly: {:.3f}\".format(mean_squared_error(y_test, y_pred_svm_poly)))\n",
    "print(\"R2 SVM poly:   {:.3f}\".format(r2_score(y_test, y_pred_svm_poly)))"
   ]
  },
  {
   "cell_type": "markdown",
   "metadata": {},
   "source": [
    "### Decision Tree and Random Forest"
   ]
  },
  {
   "cell_type": "code",
   "execution_count": 43,
   "metadata": {},
   "outputs": [
    {
     "name": "stdout",
     "output_type": "stream",
     "text": [
      "MSE DT: 31.520\n",
      "R2 DT:   0.486\n",
      "MSE RF: 21.948\n",
      "R2 RF:   0.642\n"
     ]
    }
   ],
   "source": [
    "from sklearn.tree import DecisionTreeRegressor\n",
    "from sklearn.ensemble import RandomForestRegressor\n",
    "\n",
    "DTreg = DecisionTreeRegressor()\n",
    "DTreg.fit(x_train, y_train)\n",
    "y_predDT = DTreg.predict(x_test)\n",
    "print(\"MSE DT: {:.3f}\".format(mean_squared_error(y_test, y_predDT)))\n",
    "print(\"R2 DT:   {:.3f}\".format(r2_score(y_test, y_predDT)))\n",
    "\n",
    "\n",
    "RFreg = RandomForestRegressor()\n",
    "RFreg.fit(x_train, y_train)\n",
    "y_predRF = RFreg.predict(x_test)\n",
    "print(\"MSE RF: {:.3f}\".format(mean_squared_error(y_test, y_predRF)))\n",
    "print(\"R2 RF:   {:.3f}\".format(r2_score(y_test, y_predRF)))"
   ]
  },
  {
   "cell_type": "markdown",
   "metadata": {},
   "source": [
    "### Multi Layer Perceptron/Neural Networks Regression"
   ]
  },
  {
   "cell_type": "code",
   "execution_count": 125,
   "metadata": {},
   "outputs": [
    {
     "name": "stdout",
     "output_type": "stream",
     "text": [
      "MSE NN linear: 15.611\n",
      "R2 NN linear:   0.745\n",
      "MSE NN logistic: 98.877\n",
      "R2 NN logistic:   -0.614\n",
      "MSE NN relu: 18.292\n",
      "R2 NN relu:   0.702\n"
     ]
    }
   ],
   "source": [
    "from sklearn.neural_network import MLPRegressor\n",
    "\n",
    "NNreg = MLPRegressor(hidden_layer_sizes=(8),  activation = \"identity\", max_iter = 100000, alpha = 0.01)\n",
    "NNreg.fit(x_train, y_train)\n",
    "y_predNNlinear = NNreg.predict(x_test)\n",
    "print(\"MSE NN linear: {:.3f}\".format(mean_squared_error(y_test, y_predNNlinear)))\n",
    "print(\"R2 NN linear:   {:.3f}\".format(r2_score(y_test, y_predNNlinear)))\n",
    "\n",
    "NNreg = MLPRegressor(hidden_layer_sizes=(8),  activation = \"logistic\", max_iter = 100000, alpha = 0.01)\n",
    "NNreg.fit(x_train, y_train)\n",
    "y_predNN = NNreg.predict(x_test)\n",
    "print(\"MSE NN logistic: {:.3f}\".format(mean_squared_error(y_test, y_predNN)))\n",
    "print(\"R2 NN logistic:   {:.3f}\".format(r2_score(y_test, y_predNN)))\n",
    "\n",
    "NNreg = MLPRegressor(hidden_layer_sizes=(8),  activation = \"relu\", max_iter = 100000, alpha = 0.01)\n",
    "NNreg.fit(x_train, y_train)\n",
    "y_predNN = NNreg.predict(x_test)\n",
    "print(\"MSE NN relu: {:.3f}\".format(mean_squared_error(y_test, y_predNN)))\n",
    "print(\"R2 NN relu:   {:.3f}\".format(r2_score(y_test, y_predNN)))"
   ]
  },
  {
   "cell_type": "code",
   "execution_count": 127,
   "metadata": {},
   "outputs": [
    {
     "data": {
      "image/png": "[encoded data removed]",
      "text/plain": [
       "<Figure size 864x360 with 2 Axes>"
      ]
     },
     "metadata": {
      "needs_background": "light"
     },
     "output_type": "display_data"
    }
   ],
   "source": [
    "# Bereken de residuals en visualiseer de Ground Truths en de Predictions\n",
    "res = y_test-y_predNNlinear\n",
    "fig, ax = plt.subplots(1, 2, figsize = (12, 5))\n",
    "ax[0].hist(res, rwidth = 0.9)\n",
    "ax[0].set_xlabel(\"residuals\")\n",
    "ax[0].set_ylabel(\"Frequency\")\n",
    "ax[0].set_title(\"Histogram of residuals (NN regression)\")\n",
    "\n",
    "# Maak een scatter plot om de verdeling van de voorspellingen te visualiseren. Alle voorspellingen op de rode lijn zijn een perfect fit.\n",
    "ax[1].scatter(y_test, y_predNNlinear)\n",
    "ax[1].set_xlabel(\"Ground Truths\")\n",
    "ax[1].set_ylabel(\"Predictions\")\n",
    "ax[1].set_title(\"Distribution of predictions (NN regression)\")\n",
    "ax[1].plot([y_test.min(), y_test.max()], [y_test.min(), y_test.max()], c = \"r\", label = \"Perfect fit\")\n",
    "plt.legend()\n",
    "plt.show()"
   ]
  },
  {
   "cell_type": "code",
   "execution_count": null,
   "metadata": {},
   "outputs": [],
   "source": []
  }
 ],
 "metadata": {
  "kernelspec": {
   "display_name": "Python 3 (ipykernel)",
   "language": "python",
   "name": "python3"
  },
  "language_info": {
   "codemirror_mode": {
    "name": "ipython",
    "version": 3
   },
   "file_extension": ".py",
   "mimetype": "text/x-python",
   "name": "python",
   "nbconvert_exporter": "python",
   "pygments_lexer": "ipython3",
   "version": "3.8.12"
  }
 },
 "nbformat": 4,
 "nbformat_minor": 2
}
