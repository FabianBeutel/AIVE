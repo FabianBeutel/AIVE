{
 "cells": [
  {
   "cell_type": "markdown",
   "metadata": {},
   "source": [
    "# Packages inladen"
   ]
  },
  {
   "cell_type": "code",
   "execution_count": 3,
   "metadata": {},
   "outputs": [],
   "source": [
    "import numpy as np\n",
    "import pandas as pd\n",
    "from matplotlib import pyplot as plt\n",
    "\n",
    "# installeer lifelines\n",
    "from lifelines import KaplanMeierFitter\n",
    "from lifelines import CoxPHFitter"
   ]
  },
  {
   "cell_type": "markdown",
   "metadata": {},
   "source": [
    "# Data exploration"
   ]
  },
  {
   "cell_type": "code",
   "execution_count": 54,
   "metadata": {},
   "outputs": [
    {
     "data": {
      "text/html": [
       "<div>\n",
       "<style scoped>\n",
       "    .dataframe tbody tr th:only-of-type {\n",
       "        vertical-align: middle;\n",
       "    }\n",
       "\n",
       "    .dataframe tbody tr th {\n",
       "        vertical-align: top;\n",
       "    }\n",
       "\n",
       "    .dataframe thead th {\n",
       "        text-align: right;\n",
       "    }\n",
       "</style>\n",
       "<table border=\"1\" class=\"dataframe\">\n",
       "  <thead>\n",
       "    <tr style=\"text-align: right;\">\n",
       "      <th></th>\n",
       "      <th>lifetime</th>\n",
       "      <th>broken</th>\n",
       "      <th>pressureInd</th>\n",
       "      <th>moistureInd</th>\n",
       "      <th>temperatureInd</th>\n",
       "      <th>team</th>\n",
       "      <th>provider</th>\n",
       "    </tr>\n",
       "  </thead>\n",
       "  <tbody>\n",
       "    <tr>\n",
       "      <th>0</th>\n",
       "      <td>56</td>\n",
       "      <td>0</td>\n",
       "      <td>92.178854</td>\n",
       "      <td>104.230204</td>\n",
       "      <td>96.517159</td>\n",
       "      <td>TeamA</td>\n",
       "      <td>Provider4</td>\n",
       "    </tr>\n",
       "    <tr>\n",
       "      <th>1</th>\n",
       "      <td>81</td>\n",
       "      <td>1</td>\n",
       "      <td>72.075938</td>\n",
       "      <td>103.065701</td>\n",
       "      <td>87.271062</td>\n",
       "      <td>TeamC</td>\n",
       "      <td>Provider4</td>\n",
       "    </tr>\n",
       "    <tr>\n",
       "      <th>2</th>\n",
       "      <td>60</td>\n",
       "      <td>0</td>\n",
       "      <td>96.272254</td>\n",
       "      <td>77.801376</td>\n",
       "      <td>112.196170</td>\n",
       "      <td>TeamA</td>\n",
       "      <td>Provider1</td>\n",
       "    </tr>\n",
       "    <tr>\n",
       "      <th>3</th>\n",
       "      <td>86</td>\n",
       "      <td>1</td>\n",
       "      <td>94.406461</td>\n",
       "      <td>108.493608</td>\n",
       "      <td>72.025374</td>\n",
       "      <td>TeamC</td>\n",
       "      <td>Provider2</td>\n",
       "    </tr>\n",
       "    <tr>\n",
       "      <th>4</th>\n",
       "      <td>34</td>\n",
       "      <td>0</td>\n",
       "      <td>97.752899</td>\n",
       "      <td>99.413492</td>\n",
       "      <td>103.756271</td>\n",
       "      <td>TeamB</td>\n",
       "      <td>Provider1</td>\n",
       "    </tr>\n",
       "  </tbody>\n",
       "</table>\n",
       "</div>"
      ],
      "text/plain": [
       "   lifetime  broken  pressureInd  moistureInd  temperatureInd   team  \\\n",
       "0        56       0    92.178854   104.230204       96.517159  TeamA   \n",
       "1        81       1    72.075938   103.065701       87.271062  TeamC   \n",
       "2        60       0    96.272254    77.801376      112.196170  TeamA   \n",
       "3        86       1    94.406461   108.493608       72.025374  TeamC   \n",
       "4        34       0    97.752899    99.413492      103.756271  TeamB   \n",
       "\n",
       "    provider  \n",
       "0  Provider4  \n",
       "1  Provider4  \n",
       "2  Provider1  \n",
       "3  Provider2  \n",
       "4  Provider1  "
      ]
     },
     "execution_count": 54,
     "metadata": {},
     "output_type": "execute_result"
    }
   ],
   "source": [
    "df = pd.read_csv(\"DATA_4.03_MNT.csv\")\n",
    "df.head()"
   ]
  },
  {
   "cell_type": "code",
   "execution_count": 55,
   "metadata": {},
   "outputs": [
    {
     "data": {
      "text/html": [
       "<div>\n",
       "<style scoped>\n",
       "    .dataframe tbody tr th:only-of-type {\n",
       "        vertical-align: middle;\n",
       "    }\n",
       "\n",
       "    .dataframe tbody tr th {\n",
       "        vertical-align: top;\n",
       "    }\n",
       "\n",
       "    .dataframe thead th {\n",
       "        text-align: right;\n",
       "    }\n",
       "</style>\n",
       "<table border=\"1\" class=\"dataframe\">\n",
       "  <thead>\n",
       "    <tr style=\"text-align: right;\">\n",
       "      <th></th>\n",
       "      <th>lifetime</th>\n",
       "      <th>broken</th>\n",
       "      <th>pressureInd</th>\n",
       "      <th>moistureInd</th>\n",
       "      <th>temperatureInd</th>\n",
       "    </tr>\n",
       "  </thead>\n",
       "  <tbody>\n",
       "    <tr>\n",
       "      <th>count</th>\n",
       "      <td>1000.000000</td>\n",
       "      <td>1000.000000</td>\n",
       "      <td>1000.000000</td>\n",
       "      <td>1000.000000</td>\n",
       "      <td>1000.000000</td>\n",
       "    </tr>\n",
       "    <tr>\n",
       "      <th>mean</th>\n",
       "      <td>55.195000</td>\n",
       "      <td>0.397000</td>\n",
       "      <td>98.599338</td>\n",
       "      <td>99.376723</td>\n",
       "      <td>100.628541</td>\n",
       "    </tr>\n",
       "    <tr>\n",
       "      <th>std</th>\n",
       "      <td>26.472737</td>\n",
       "      <td>0.489521</td>\n",
       "      <td>19.964052</td>\n",
       "      <td>9.988726</td>\n",
       "      <td>19.633060</td>\n",
       "    </tr>\n",
       "    <tr>\n",
       "      <th>min</th>\n",
       "      <td>1.000000</td>\n",
       "      <td>0.000000</td>\n",
       "      <td>33.481917</td>\n",
       "      <td>58.547301</td>\n",
       "      <td>42.279598</td>\n",
       "    </tr>\n",
       "    <tr>\n",
       "      <th>25%</th>\n",
       "      <td>34.000000</td>\n",
       "      <td>0.000000</td>\n",
       "      <td>85.558076</td>\n",
       "      <td>92.771764</td>\n",
       "      <td>87.676913</td>\n",
       "    </tr>\n",
       "    <tr>\n",
       "      <th>50%</th>\n",
       "      <td>60.000000</td>\n",
       "      <td>0.000000</td>\n",
       "      <td>97.216997</td>\n",
       "      <td>99.433959</td>\n",
       "      <td>100.592277</td>\n",
       "    </tr>\n",
       "    <tr>\n",
       "      <th>75%</th>\n",
       "      <td>80.000000</td>\n",
       "      <td>1.000000</td>\n",
       "      <td>112.253190</td>\n",
       "      <td>106.120762</td>\n",
       "      <td>113.662885</td>\n",
       "    </tr>\n",
       "    <tr>\n",
       "      <th>max</th>\n",
       "      <td>93.000000</td>\n",
       "      <td>1.000000</td>\n",
       "      <td>173.282541</td>\n",
       "      <td>128.595038</td>\n",
       "      <td>172.544140</td>\n",
       "    </tr>\n",
       "  </tbody>\n",
       "</table>\n",
       "</div>"
      ],
      "text/plain": [
       "          lifetime       broken  pressureInd  moistureInd  temperatureInd\n",
       "count  1000.000000  1000.000000  1000.000000  1000.000000     1000.000000\n",
       "mean     55.195000     0.397000    98.599338    99.376723      100.628541\n",
       "std      26.472737     0.489521    19.964052     9.988726       19.633060\n",
       "min       1.000000     0.000000    33.481917    58.547301       42.279598\n",
       "25%      34.000000     0.000000    85.558076    92.771764       87.676913\n",
       "50%      60.000000     0.000000    97.216997    99.433959      100.592277\n",
       "75%      80.000000     1.000000   112.253190   106.120762      113.662885\n",
       "max      93.000000     1.000000   173.282541   128.595038      172.544140"
      ]
     },
     "execution_count": 55,
     "metadata": {},
     "output_type": "execute_result"
    }
   ],
   "source": [
    "# We zien dat minder van de helft kapot is en dat de meeste datapunten zijn verzameld onder 60 (lifetime) \n",
    "# terwijl de maximale waarde van lifetime 93 is. \n",
    "df.describe()"
   ]
  },
  {
   "cell_type": "code",
   "execution_count": 56,
   "metadata": {},
   "outputs": [
    {
     "data": {
      "image/png": "[encoded data removed]",
      "text/plain": [
       "<Figure size 432x288 with 1 Axes>"
      ]
     },
     "metadata": {
      "needs_background": "light"
     },
     "output_type": "display_data"
    }
   ],
   "source": [
    "df.lifetime.loc[df.broken == 0].hist(rwidth = 0.9)\n",
    "df.lifetime.loc[df.broken == 1].hist(rwidth = 0.9, grid = False)\n",
    "plt.xlabel(\"Time\")\n",
    "plt.ylabel(\"Frequency\")\n",
    "plt.legend([\"Not Broken\", \"Broken\"])\n",
    "plt.show()"
   ]
  },
  {
   "cell_type": "code",
   "execution_count": 57,
   "metadata": {},
   "outputs": [
    {
     "data": {
      "text/html": [
       "<div>\n",
       "<style scoped>\n",
       "    .dataframe tbody tr th:only-of-type {\n",
       "        vertical-align: middle;\n",
       "    }\n",
       "\n",
       "    .dataframe tbody tr th {\n",
       "        vertical-align: top;\n",
       "    }\n",
       "\n",
       "    .dataframe thead th {\n",
       "        text-align: right;\n",
       "    }\n",
       "</style>\n",
       "<table border=\"1\" class=\"dataframe\">\n",
       "  <thead>\n",
       "    <tr style=\"text-align: right;\">\n",
       "      <th></th>\n",
       "      <th>lifetime</th>\n",
       "      <th>broken</th>\n",
       "      <th>pressureInd</th>\n",
       "      <th>moistureInd</th>\n",
       "      <th>temperatureInd</th>\n",
       "      <th>TeamA</th>\n",
       "      <th>TeamB</th>\n",
       "      <th>TeamC</th>\n",
       "      <th>Provider1</th>\n",
       "      <th>Provider2</th>\n",
       "      <th>Provider3</th>\n",
       "      <th>Provider4</th>\n",
       "    </tr>\n",
       "  </thead>\n",
       "  <tbody>\n",
       "    <tr>\n",
       "      <th>0</th>\n",
       "      <td>56</td>\n",
       "      <td>0</td>\n",
       "      <td>0.921789</td>\n",
       "      <td>1.042302</td>\n",
       "      <td>0.965172</td>\n",
       "      <td>1</td>\n",
       "      <td>0</td>\n",
       "      <td>0</td>\n",
       "      <td>0</td>\n",
       "      <td>0</td>\n",
       "      <td>0</td>\n",
       "      <td>1</td>\n",
       "    </tr>\n",
       "    <tr>\n",
       "      <th>1</th>\n",
       "      <td>81</td>\n",
       "      <td>1</td>\n",
       "      <td>0.720759</td>\n",
       "      <td>1.030657</td>\n",
       "      <td>0.872711</td>\n",
       "      <td>0</td>\n",
       "      <td>0</td>\n",
       "      <td>1</td>\n",
       "      <td>0</td>\n",
       "      <td>0</td>\n",
       "      <td>0</td>\n",
       "      <td>1</td>\n",
       "    </tr>\n",
       "    <tr>\n",
       "      <th>2</th>\n",
       "      <td>60</td>\n",
       "      <td>0</td>\n",
       "      <td>0.962723</td>\n",
       "      <td>0.778014</td>\n",
       "      <td>1.121962</td>\n",
       "      <td>1</td>\n",
       "      <td>0</td>\n",
       "      <td>0</td>\n",
       "      <td>1</td>\n",
       "      <td>0</td>\n",
       "      <td>0</td>\n",
       "      <td>0</td>\n",
       "    </tr>\n",
       "    <tr>\n",
       "      <th>3</th>\n",
       "      <td>86</td>\n",
       "      <td>1</td>\n",
       "      <td>0.944065</td>\n",
       "      <td>1.084936</td>\n",
       "      <td>0.720254</td>\n",
       "      <td>0</td>\n",
       "      <td>0</td>\n",
       "      <td>1</td>\n",
       "      <td>0</td>\n",
       "      <td>1</td>\n",
       "      <td>0</td>\n",
       "      <td>0</td>\n",
       "    </tr>\n",
       "    <tr>\n",
       "      <th>4</th>\n",
       "      <td>34</td>\n",
       "      <td>0</td>\n",
       "      <td>0.977529</td>\n",
       "      <td>0.994135</td>\n",
       "      <td>1.037563</td>\n",
       "      <td>0</td>\n",
       "      <td>1</td>\n",
       "      <td>0</td>\n",
       "      <td>1</td>\n",
       "      <td>0</td>\n",
       "      <td>0</td>\n",
       "      <td>0</td>\n",
       "    </tr>\n",
       "  </tbody>\n",
       "</table>\n",
       "</div>"
      ],
      "text/plain": [
       "   lifetime  broken  pressureInd  moistureInd  temperatureInd  TeamA  TeamB  \\\n",
       "0        56       0     0.921789     1.042302        0.965172      1      0   \n",
       "1        81       1     0.720759     1.030657        0.872711      0      0   \n",
       "2        60       0     0.962723     0.778014        1.121962      1      0   \n",
       "3        86       1     0.944065     1.084936        0.720254      0      0   \n",
       "4        34       0     0.977529     0.994135        1.037563      0      1   \n",
       "\n",
       "   TeamC  Provider1  Provider2  Provider3  Provider4  \n",
       "0      0          0          0          0          1  \n",
       "1      1          0          0          0          1  \n",
       "2      0          1          0          0          0  \n",
       "3      1          0          1          0          0  \n",
       "4      0          1          0          0          0  "
      ]
     },
     "execution_count": 57,
     "metadata": {},
     "output_type": "execute_result"
    }
   ],
   "source": [
    "# Het schalen van features zodat ze in de zelfde orde van magnitude zijn met andere features\n",
    "df_scaled = df\n",
    "df_scaled.loc[:, [\"pressureInd\", \"moistureInd\", \"temperatureInd\"]] = df_scaled.loc[:, [\"pressureInd\", \"moistureInd\", \"temperatureInd\"]]/100\n",
    "\n",
    "# Dummy variabelen aanmaken voor de categorische variabelen\n",
    "df_dummied = pd.get_dummies(df_scaled, drop_first = False, prefix = \"\", prefix_sep =\"\")\n",
    "df_dummied.head()"
   ]
  },
  {
   "cell_type": "markdown",
   "metadata": {},
   "source": [
    "Voor regressie doen we een test om te kijken of alle variabelen onafhankelijk van elkaar zijn, maar we weten bij dummies dat dat niet zo is. Als variabele `TeamA` en `Provider1` worden meegenomen, dan zijn de dummies niet meer variabel."
   ]
  },
  {
   "cell_type": "code",
   "execution_count": 62,
   "metadata": {},
   "outputs": [
    {
     "data": {
      "text/html": [
       "<div>\n",
       "<style scoped>\n",
       "    .dataframe tbody tr th:only-of-type {\n",
       "        vertical-align: middle;\n",
       "    }\n",
       "\n",
       "    .dataframe tbody tr th {\n",
       "        vertical-align: top;\n",
       "    }\n",
       "\n",
       "    .dataframe thead th {\n",
       "        text-align: right;\n",
       "    }\n",
       "</style>\n",
       "<table border=\"1\" class=\"dataframe\">\n",
       "  <thead>\n",
       "    <tr style=\"text-align: right;\">\n",
       "      <th></th>\n",
       "      <th>variable</th>\n",
       "      <th>VIF</th>\n",
       "    </tr>\n",
       "  </thead>\n",
       "  <tbody>\n",
       "    <tr>\n",
       "      <th>0</th>\n",
       "      <td>Intercept</td>\n",
       "      <td>0.000000</td>\n",
       "    </tr>\n",
       "    <tr>\n",
       "      <th>1</th>\n",
       "      <td>broken</td>\n",
       "      <td>1.022236</td>\n",
       "    </tr>\n",
       "    <tr>\n",
       "      <th>2</th>\n",
       "      <td>pressureInd</td>\n",
       "      <td>1.012341</td>\n",
       "    </tr>\n",
       "    <tr>\n",
       "      <th>3</th>\n",
       "      <td>moistureInd</td>\n",
       "      <td>1.006358</td>\n",
       "    </tr>\n",
       "    <tr>\n",
       "      <th>4</th>\n",
       "      <td>temperatureInd</td>\n",
       "      <td>1.001888</td>\n",
       "    </tr>\n",
       "    <tr>\n",
       "      <th>5</th>\n",
       "      <td>TeamB</td>\n",
       "      <td>inf</td>\n",
       "    </tr>\n",
       "    <tr>\n",
       "      <th>6</th>\n",
       "      <td>TeamC</td>\n",
       "      <td>inf</td>\n",
       "    </tr>\n",
       "    <tr>\n",
       "      <th>7</th>\n",
       "      <td>Provider2</td>\n",
       "      <td>inf</td>\n",
       "    </tr>\n",
       "    <tr>\n",
       "      <th>8</th>\n",
       "      <td>Provider3</td>\n",
       "      <td>inf</td>\n",
       "    </tr>\n",
       "    <tr>\n",
       "      <th>9</th>\n",
       "      <td>Provider4</td>\n",
       "      <td>inf</td>\n",
       "    </tr>\n",
       "    <tr>\n",
       "      <th>10</th>\n",
       "      <td>TeamA</td>\n",
       "      <td>inf</td>\n",
       "    </tr>\n",
       "    <tr>\n",
       "      <th>11</th>\n",
       "      <td>Provider1</td>\n",
       "      <td>inf</td>\n",
       "    </tr>\n",
       "  </tbody>\n",
       "</table>\n",
       "</div>"
      ],
      "text/plain": [
       "          variable       VIF\n",
       "0        Intercept  0.000000\n",
       "1           broken  1.022236\n",
       "2      pressureInd  1.012341\n",
       "3      moistureInd  1.006358\n",
       "4   temperatureInd  1.001888\n",
       "5            TeamB       inf\n",
       "6            TeamC       inf\n",
       "7        Provider2       inf\n",
       "8        Provider3       inf\n",
       "9        Provider4       inf\n",
       "10           TeamA       inf\n",
       "11       Provider1       inf"
      ]
     },
     "execution_count": 62,
     "metadata": {},
     "output_type": "execute_result"
    }
   ],
   "source": [
    "from statsmodels.stats.outliers_influence import variance_inflation_factor\n",
    "from patsy import dmatrices\n",
    "\n",
    "y, X = dmatrices(\"\"\"lifetime ~ broken + pressureInd + moistureInd + temperatureInd \n",
    "                    + TeamB + TeamC + Provider2 + Provider3 + Provider4\n",
    "                    + TeamA + Provider1\"\"\", data=df_dummied, return_type='dataframe')\n",
    "vif = pd.DataFrame()\n",
    "vif['variable'] = X.columns\n",
    "vif['VIF'] = [variance_inflation_factor(X.values, i) for i in range(X.shape[1])]\n",
    "vif"
   ]
  },
  {
   "cell_type": "markdown",
   "metadata": {},
   "source": [
    "# Survival Analysis\n",
    "## Kaplan Meier"
   ]
  },
  {
   "cell_type": "code",
   "execution_count": 42,
   "metadata": {},
   "outputs": [
    {
     "data": {
      "image/png": "[encoded data removed]",
      "text/plain": [
       "<Figure size 432x288 with 1 Axes>"
      ]
     },
     "metadata": {
      "needs_background": "light"
     },
     "output_type": "display_data"
    }
   ],
   "source": [
    "# Fit kaplan meier curve\n",
    "kmf = KaplanMeierFitter()\n",
    "kmf.fit(df.lifetime, df.broken, label='Kaplan Meier Estimate')\n",
    "# Plot KM curve\n",
    "kmf.plot(ci_show=True)\n",
    "plt.ylabel(\"probability\")\n",
    "\n",
    "# Predict survival probability and plot in KM curve\n",
    "t = 70\n",
    "plt.plot([t, t], [0, kmf.predict(t)], \"r--\")\n",
    "plt.plot([0, t], [kmf.predict(t), kmf.predict(t)], \"r--\", label = \"Probability of surviving after t has past\")\n",
    "plt.text(max(1, t-10), max(0.01, kmf.predict(t)-0.1), \"{:.3f}\".format(kmf.predict(t)))\n",
    "plt.legend()\n",
    "plt.show()"
   ]
  },
  {
   "cell_type": "markdown",
   "metadata": {},
   "source": [
    "## Cox Proportional Hazard Regression"
   ]
  },
  {
   "cell_type": "code",
   "execution_count": 65,
   "metadata": {},
   "outputs": [
    {
     "data": {
      "text/html": [
       "<div>\n",
       "<style scoped>\n",
       "    .dataframe tbody tr th:only-of-type {\n",
       "        vertical-align: middle;\n",
       "    }\n",
       "\n",
       "    .dataframe tbody tr th {\n",
       "        vertical-align: top;\n",
       "    }\n",
       "\n",
       "    .dataframe thead th {\n",
       "        text-align: right;\n",
       "    }\n",
       "</style>\n",
       "<table border=\"1\" class=\"dataframe\">\n",
       "  <thead>\n",
       "    <tr style=\"text-align: right;\">\n",
       "      <th></th>\n",
       "      <th>lifetime</th>\n",
       "      <th>broken</th>\n",
       "      <th>pressureInd</th>\n",
       "      <th>moistureInd</th>\n",
       "      <th>temperatureInd</th>\n",
       "      <th>TeamB</th>\n",
       "      <th>TeamC</th>\n",
       "      <th>Provider2</th>\n",
       "      <th>Provider3</th>\n",
       "      <th>Provider4</th>\n",
       "    </tr>\n",
       "  </thead>\n",
       "  <tbody>\n",
       "    <tr>\n",
       "      <th>298</th>\n",
       "      <td>17</td>\n",
       "      <td>0</td>\n",
       "      <td>0.773020</td>\n",
       "      <td>0.952453</td>\n",
       "      <td>1.024545</td>\n",
       "      <td>0</td>\n",
       "      <td>0</td>\n",
       "      <td>0</td>\n",
       "      <td>0</td>\n",
       "      <td>1</td>\n",
       "    </tr>\n",
       "    <tr>\n",
       "      <th>160</th>\n",
       "      <td>29</td>\n",
       "      <td>0</td>\n",
       "      <td>1.127450</td>\n",
       "      <td>0.916177</td>\n",
       "      <td>1.009546</td>\n",
       "      <td>1</td>\n",
       "      <td>0</td>\n",
       "      <td>0</td>\n",
       "      <td>0</td>\n",
       "      <td>1</td>\n",
       "    </tr>\n",
       "    <tr>\n",
       "      <th>268</th>\n",
       "      <td>45</td>\n",
       "      <td>0</td>\n",
       "      <td>0.767686</td>\n",
       "      <td>0.986989</td>\n",
       "      <td>0.907500</td>\n",
       "      <td>1</td>\n",
       "      <td>0</td>\n",
       "      <td>0</td>\n",
       "      <td>0</td>\n",
       "      <td>0</td>\n",
       "    </tr>\n",
       "    <tr>\n",
       "      <th>658</th>\n",
       "      <td>35</td>\n",
       "      <td>0</td>\n",
       "      <td>1.153062</td>\n",
       "      <td>1.059267</td>\n",
       "      <td>0.751906</td>\n",
       "      <td>1</td>\n",
       "      <td>0</td>\n",
       "      <td>0</td>\n",
       "      <td>1</td>\n",
       "      <td>0</td>\n",
       "    </tr>\n",
       "    <tr>\n",
       "      <th>996</th>\n",
       "      <td>88</td>\n",
       "      <td>1</td>\n",
       "      <td>1.167271</td>\n",
       "      <td>1.108713</td>\n",
       "      <td>0.950756</td>\n",
       "      <td>0</td>\n",
       "      <td>0</td>\n",
       "      <td>0</td>\n",
       "      <td>0</td>\n",
       "      <td>1</td>\n",
       "    </tr>\n",
       "  </tbody>\n",
       "</table>\n",
       "</div>"
      ],
      "text/plain": [
       "     lifetime  broken  pressureInd  moistureInd  temperatureInd  TeamB  TeamC  \\\n",
       "298        17       0     0.773020     0.952453        1.024545      0      0   \n",
       "160        29       0     1.127450     0.916177        1.009546      1      0   \n",
       "268        45       0     0.767686     0.986989        0.907500      1      0   \n",
       "658        35       0     1.153062     1.059267        0.751906      1      0   \n",
       "996        88       1     1.167271     1.108713        0.950756      0      0   \n",
       "\n",
       "     Provider2  Provider3  Provider4  \n",
       "298          0          0          1  \n",
       "160          0          0          1  \n",
       "268          0          0          0  \n",
       "658          0          1          0  \n",
       "996          0          0          1  "
      ]
     },
     "execution_count": 65,
     "metadata": {},
     "output_type": "execute_result"
    }
   ],
   "source": [
    "from sklearn.model_selection import train_test_split\n",
    "\n",
    "df_filter = df_dummied.drop([\"TeamA\", \"Provider1\"], axis = 1)\n",
    "train, test = train_test_split(df_filter, test_size = 0.25, random_state = 1)\n",
    "train.head()"
   ]
  },
  {
   "cell_type": "code",
   "execution_count": 105,
   "metadata": {},
   "outputs": [
    {
     "name": "stdout",
     "output_type": "stream",
     "text": [
      "<lifelines.CoxPHFitter: fitted with 750 observations, 463 censored>\n",
      "      duration col = 'lifetime'\n",
      "         event col = 'broken'\n",
      "number of subjects = 750\n",
      "  number of events = 287\n",
      "    log-likelihood = -907.48\n",
      "  time fit was run = 2020-09-19 10:44:08 UTC\n",
      "\n",
      "---\n",
      "                coef  exp(coef)  se(coef)      z      p  -log2(p)  lower 0.95  upper 0.95\n",
      "pressureInd     0.14       1.15      0.31   0.44   0.66      0.60       -0.47        0.74\n",
      "moistureInd    -0.69       0.50      0.61  -1.13   0.26      1.95       -1.89        0.51\n",
      "temperatureInd  1.31       3.72      0.33   3.92 <0.005     13.48        0.66        1.97\n",
      "TeamB          -0.00       1.00      0.14  -0.02   0.99      0.02       -0.29        0.28\n",
      "TeamC           2.73      15.38      0.23  11.70 <0.005    102.68        2.28        3.19\n",
      "Provider2      -5.68       0.00      0.41 -13.95 <0.005    144.43       -6.48       -4.88\n",
      "Provider3       4.85     127.45      0.39  12.59 <0.005    118.35        4.09        5.60\n",
      "Provider4      -4.15       0.02      0.34 -12.34 <0.005    113.81       -4.81       -3.49\n",
      "---\n",
      "Concordance = 1.00\n",
      "Log-likelihood ratio test = 955.64 on 8 df, -log2(p)=665.22\n"
     ]
    },
    {
     "name": "stderr",
     "output_type": "stream",
     "text": [
      "C:\\Users\\simch\\Anaconda3\\lib\\site-packages\\lifelines\\fitters\\coxph_fitter.py:531: ConvergenceWarning: Newton-Rhapson failed to converge sufficiently in 50 steps.\n",
      "  warnings.warn(\"Newton-Rhapson failed to converge sufficiently in %d steps.\" % max_steps, ConvergenceWarning)\n"
     ]
    }
   ],
   "source": [
    "cr = CoxPHFitter()\n",
    "cr.fit(train, duration_col = \"lifetime\", event_col = \"broken\", step_size = .01)\n",
    "cr.print_summary()"
   ]
  },
  {
   "cell_type": "code",
   "execution_count": 76,
   "metadata": {},
   "outputs": [
    {
     "data": {
      "text/plain": [
       "<matplotlib.axes._subplots.AxesSubplot at 0x1716a925b70>"
      ]
     },
     "execution_count": 76,
     "metadata": {},
     "output_type": "execute_result"
    },
    {
     "data": {
      "image/png": "[encoded data removed]",
      "text/plain": [
       "<Figure size 432x288 with 1 Axes>"
      ]
     },
     "metadata": {
      "needs_background": "light"
     },
     "output_type": "display_data"
    }
   ],
   "source": [
    "cr.plot()"
   ]
  },
  {
   "cell_type": "code",
   "execution_count": 118,
   "metadata": {},
   "outputs": [],
   "source": [
    "# Only evaluate on the broken machines. There is no way to check if we predicted the machines correct if they haven't broken yet\n",
    "broken = test.loc[test.broken == 1, \"lifetime\"]\n",
    "pred = cr.predict_median(test).iloc[:, 0].loc[test.broken == 1]"
   ]
  },
  {
   "cell_type": "code",
   "execution_count": 119,
   "metadata": {},
   "outputs": [
    {
     "name": "stdout",
     "output_type": "stream",
     "text": [
      "RMSE: 0.853\n"
     ]
    },
    {
     "data": {
      "image/png": "[encoded data removed]",
      "text/plain": [
       "<Figure size 432x288 with 1 Axes>"
      ]
     },
     "metadata": {
      "needs_background": "light"
     },
     "output_type": "display_data"
    }
   ],
   "source": [
    "RMSE = lambda ytrue, ypred: sum((ytrue-ypred)**2/(len(ytrue)))**0.5\n",
    "print(\"RMSE: {:.3f}\".format(RMSE(broken.values, pred.values)))\n",
    "res = broken-pred\n",
    "plt.hist(res, rwidth = 0.9)\n",
    "plt.xlabel(\"residual\")\n",
    "plt.ylabel(\"frequency\")\n",
    "plt.show()"
   ]
  },
  {
   "cell_type": "code",
   "execution_count": 120,
   "metadata": {},
   "outputs": [
    {
     "data": {
      "image/png": "[encoded data removed]",
      "text/plain": [
       "<Figure size 432x288 with 1 Axes>"
      ]
     },
     "metadata": {
      "needs_background": "light"
     },
     "output_type": "display_data"
    }
   ],
   "source": [
    "plt.scatter(broken, pred)\n",
    "plt.plot([broken.min(), broken.max()], [broken.min(), broken.max()], \"r\")\n",
    "plt.xlabel(\"Ground Truth\")\n",
    "plt.ylabel(\"Prediction\")\n",
    "plt.show()"
   ]
  },
  {
   "cell_type": "code",
   "execution_count": null,
   "metadata": {},
   "outputs": [],
   "source": []
  }
 ],
 "metadata": {
  "kernelspec": {
   "display_name": "Python 3",
   "language": "python",
   "name": "python3"
  },
  "language_info": {
   "codemirror_mode": {
    "name": "ipython",
    "version": 3
   },
   "file_extension": ".py",
   "mimetype": "text/x-python",
   "name": "python",
   "nbconvert_exporter": "python",
   "pygments_lexer": "ipython3",
   "version": "3.7.0"
  }
 },
 "nbformat": 4,
 "nbformat_minor": 2
}
