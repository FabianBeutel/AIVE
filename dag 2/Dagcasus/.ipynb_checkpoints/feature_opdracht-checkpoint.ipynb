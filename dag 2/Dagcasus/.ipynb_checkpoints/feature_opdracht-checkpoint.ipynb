{
 "cells": [
  {
   "cell_type": "markdown",
   "metadata": {},
   "source": [
    "# Packages"
   ]
  },
  {
   "cell_type": "code",
   "execution_count": null,
   "metadata": {},
   "outputs": [],
   "source": [
    "import pandas as pd\n",
    "import numpy as np\n",
    "import matplotlib.pyplot as plt\n",
    "\n",
    "import scipy.stats as st"
   ]
  },
  {
   "cell_type": "markdown",
   "metadata": {},
   "source": [
    "# Dataset inladen"
   ]
  },
  {
   "cell_type": "code",
   "execution_count": null,
   "metadata": {},
   "outputs": [],
   "source": [
    "df = pd.read_csv(\"time_series.csv\", sep = \";\")\n",
    "df.head()"
   ]
  },
  {
   "cell_type": "markdown",
   "metadata": {},
   "source": [
    "# Maak de volgende features"
   ]
  },
  {
   "cell_type": "markdown",
   "metadata": {},
   "source": [
    "## Standaard statistieken\n",
    "- Gemiddelde\n",
    "- Standaardeviatie\n",
    "- Kurtosis\n",
    "- Skewness\n",
    "- Entropy"
   ]
  },
  {
   "cell_type": "code",
   "execution_count": null,
   "metadata": {},
   "outputs": [],
   "source": []
  },
  {
   "cell_type": "markdown",
   "metadata": {},
   "source": [
    "### Zet de standaardstatistieken in een dataframe"
   ]
  },
  {
   "cell_type": "code",
   "execution_count": null,
   "metadata": {},
   "outputs": [],
   "source": [
    "standaard_statistieken = pd.DataFrame(columns = [\"cycle\", \"mu\", \"sigma\", \"kurt\", \"skew\", \"entropy\"])\n",
    "standaard_statistieken.cycle = #...\n",
    "standaard_statistieken.loc[:, \"mu\"] = #...\n",
    "standaard_statistieken.loc[:, \"sigma\"] = #...\n",
    "standaard_statistieken.loc[:, \"kurt\"] = #...\n",
    "standaard_statistieken.loc[:, \"skew\"] = #...\n",
    "standaard_statistieken.loc[:, \"entropy\"] = #...\n",
    "standaard_statistieken.head()"
   ]
  },
  {
   "cell_type": "markdown",
   "metadata": {},
   "source": [
    "## Onderzoek met autoregression de periodiciteit van de data\n",
    "- Correleert de data met zichzelf?\n",
    "- Wat voor effect heeft een moving average op de autocorrelatie?\n",
    "- Op welke verschuivingen correlereert de data soms met zichzelf?"
   ]
  },
  {
   "cell_type": "code",
   "execution_count": null,
   "metadata": {},
   "outputs": [],
   "source": []
  },
  {
   "cell_type": "markdown",
   "metadata": {},
   "source": [
    "### Voeg de AR(50) (autoregressie coefficient met verschuiving 50) aan de standaardstatistieken\n",
    "#### Gebruik Moving average"
   ]
  },
  {
   "cell_type": "code",
   "execution_count": null,
   "metadata": {},
   "outputs": [],
   "source": []
  },
  {
   "cell_type": "markdown",
   "metadata": {},
   "source": [
    "## Wavelet transform\n",
    "- Maak een wavelet transformatie van de data met de \"haar\" wavelet en level 3 decompositie\n",
    "- Welke features kan je berekenen op de uitkomsten van de wavelet transformatie?\n",
    "- Bereken de features van de wavelet transformatie"
   ]
  },
  {
   "cell_type": "code",
   "execution_count": null,
   "metadata": {},
   "outputs": [],
   "source": [
    "from pywt import wavedec\n"
   ]
  },
  {
   "cell_type": "markdown",
   "metadata": {},
   "source": [
    "### Zet de wavelet features in een dataframe"
   ]
  },
  {
   "cell_type": "code",
   "execution_count": null,
   "metadata": {},
   "outputs": [],
   "source": []
  },
  {
   "cell_type": "markdown",
   "metadata": {},
   "source": [
    "## Frequentie domein\n",
    "- Transformeer de data met fast fourier transform\n",
    "- Bereken de basis statistieken van het frequentie domein\n",
    "- Wat is de meest dominantie frequentie? (tip: gebruik de library `peakutils`)\n",
    "- Bereken de spectral flatness"
   ]
  },
  {
   "cell_type": "code",
   "execution_count": null,
   "metadata": {},
   "outputs": [],
   "source": [
    "from numpy.fft import rfft"
   ]
  },
  {
   "cell_type": "code",
   "execution_count": null,
   "metadata": {},
   "outputs": [],
   "source": []
  },
  {
   "cell_type": "markdown",
   "metadata": {},
   "source": [
    "### Zet de frequentie features in een dataframe"
   ]
  },
  {
   "cell_type": "code",
   "execution_count": null,
   "metadata": {},
   "outputs": [],
   "source": []
  },
  {
   "cell_type": "markdown",
   "metadata": {},
   "source": [
    "# Voeg de standaard statistieken samen met de wavelet en frequentie features"
   ]
  },
  {
   "cell_type": "code",
   "execution_count": null,
   "metadata": {},
   "outputs": [],
   "source": []
  }
 ],
 "metadata": {
  "kernelspec": {
   "display_name": "Python 3",
   "language": "python",
   "name": "python3"
  },
  "language_info": {
   "codemirror_mode": {
    "name": "ipython",
    "version": 3
   },
   "file_extension": ".py",
   "mimetype": "text/x-python",
   "name": "python",
   "nbconvert_exporter": "python",
   "pygments_lexer": "ipython3",
   "version": "3.7.0"
  }
 },
 "nbformat": 4,
 "nbformat_minor": 4
}
